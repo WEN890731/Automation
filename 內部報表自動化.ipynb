{
 "cells": [
  {
   "cell_type": "markdown",
   "metadata": {},
   "source": [
    "# Import package"
   ]
  },
  {
   "cell_type": "code",
   "execution_count": 3,
   "metadata": {
    "ExecuteTime": {
     "end_time": "2022-12-21T01:23:22.080574Z",
     "start_time": "2022-12-21T01:23:19.609395Z"
    }
   },
   "outputs": [],
   "source": [
    "from main import GoogleAPIClient\n",
    "import pandas as pd\n",
    "import datetime\n",
    "from datetime import date\n",
    "import numpy as np\n",
    "import pymssql \n",
    "import pandas as pd\n",
    "from dateutil.relativedelta import relativedelta"
   ]
  },
  {
   "cell_type": "code",
   "execution_count": 4,
   "metadata": {
    "ExecuteTime": {
     "end_time": "2022-12-21T01:23:22.173358Z",
     "start_time": "2022-12-21T01:23:22.098630Z"
    }
   },
   "outputs": [],
   "source": [
    "conn = pymssql.connect(server='192.168.8.99',  #主機\n",
    "                       user='H2022021',   #輸入自己的登入帳戶\n",
    "                       password='H2022D06gs',  #輸入自己的登入密碼\n",
    "                       database='SEO_Analysis')  #資料庫名稱\n",
    "cursor=conn.cursor(as_dict=True) "
   ]
  },
  {
   "cell_type": "markdown",
   "metadata": {},
   "source": [
    "# Function"
   ]
  },
  {
   "cell_type": "code",
   "execution_count": 5,
   "metadata": {
    "ExecuteTime": {
     "end_time": "2022-12-21T01:23:23.391404Z",
     "start_time": "2022-12-21T01:23:23.381405Z"
    }
   },
   "outputs": [],
   "source": [
    "class GoogleSheets(GoogleAPIClient):\n",
    "    def __init__(self) -> None:\n",
    "        # 呼叫 GoogleAPIClient.__init__()，並提供 serviceName, version, scope\n",
    "        super().__init__(\n",
    "            'sheets',\n",
    "            'v4',\n",
    "            ['https://www.googleapis.com/auth/spreadsheets'],\n",
    "        )\n",
    "\n",
    "    def getWorksheet2Df(self, spreadsheetId: str, range: str):#獲取指定google sheet的檔案，輸出成dataframe\n",
    "        request = self.googleAPIService.spreadsheets().values().get(\n",
    "            spreadsheetId=spreadsheetId,\n",
    "            range=range,\n",
    "        )\n",
    "        result = request.execute()['values']\n",
    "        header = result[0]\n",
    "        del result[0]\n",
    "        return pd.DataFrame(result, columns=header)\n",
    "    \n",
    "    def getWorksheet(self, spreadsheetId: str, range: str):#獲取指定google sheet的檔案，輸出成list\n",
    "        request = self.googleAPIService.spreadsheets().values().get(\n",
    "            spreadsheetId=spreadsheetId,\n",
    "            range=range,\n",
    "        )\n",
    "        response = request.execute()['values']\n",
    "        return response\n",
    "\n",
    "    def clearWorksheet(self, spreadsheetId: str, range: str):#清除指定google sheet的資料\n",
    "        self.googleAPIService.spreadsheets().values().clear(\n",
    "            spreadsheetId=spreadsheetId,\n",
    "            range=range,\n",
    "        ).execute()\n",
    "        return 'done'\n",
    "    \n",
    "    def setWorksheet(self, spreadsheetId: str, range: str, df: pd.DataFrame):#清除指定google sheet的資料後新增資料(dataframe)\n",
    "        self.clearWorksheet(spreadsheetId, range)\n",
    "        #使用 update 的語法把我們新的數據加入至 Google Sheets\n",
    "        self.googleAPIService.spreadsheets().values().update(\n",
    "            spreadsheetId=spreadsheetId,\n",
    "            range=range,\n",
    "            valueInputOption='USER_ENTERED',\n",
    "            body={\n",
    "                'majorDimension': 'ROWS',\n",
    "                'values': df.T.reset_index().T.values.tolist()\n",
    "            },\n",
    "        ).execute()\n",
    "        return 'done'\n",
    "\n",
    "    def appendWorksheet(self, spreadsheetId: str, range: str, df: pd.DataFrame):#對指定google sheet加入資料(dataframe)\n",
    "        self.googleAPIService.spreadsheets().values().append(\n",
    "            spreadsheetId=spreadsheetId,\n",
    "            range=range,\n",
    "            valueInputOption='USER_ENTERED',\n",
    "            body={\n",
    "                'majorDimension': 'ROWS',\n",
    "                'values': df.values.tolist()\n",
    "            },\n",
    "        ).execute()\n",
    "        return 'done'\n",
    "    "
   ]
  },
  {
   "cell_type": "code",
   "execution_count": 6,
   "metadata": {
    "ExecuteTime": {
     "end_time": "2022-12-21T01:23:23.749543Z",
     "start_time": "2022-12-21T01:23:23.734552Z"
    }
   },
   "outputs": [],
   "source": [
    "def howManyDays(year):#輸入年分，回傳當年度天數\n",
    "    if year % 4 == 0 and year % 100 != 0:\n",
    "        return 364\n",
    "    elif year % 4 == 0 and year % 100 == 0 and year % 400==0:\n",
    "        return 364\n",
    "    else:\n",
    "        return 365\n",
    "\n",
    "def getCompare3DaysToday():#獲得昨天、去年同期和前年同期的日期字串\n",
    "    yesterday = ((datetime.datetime.now())+datetime.timedelta(days=-1)).strftime('%Y/%m/%d')\n",
    "    diffday1 = howManyDays(datetime.datetime.now().year-1)\n",
    "    oneYago = ((datetime.datetime.now())+datetime.timedelta(days=-diffday1)).strftime('%Y/%m/%d')\n",
    "    diffday2 = diffday1+howManyDays(datetime.datetime.now().year-2)\n",
    "    twoYago = ((datetime.datetime.now())+datetime.timedelta(days=-diffday2)).strftime('%Y/%m/%d')\n",
    "    return yesterday, oneYago, twoYago\n",
    "\n",
    "def setCompare3Days(yyyy, mm, dd):#輸入指定日期，獲得當天、去年同期和前年同期的日期字串\n",
    "    day = datetime.date(yyyy, mm, dd)\n",
    "    day1 = ((day)+datetime.timedelta(days=-1)).strftime('%Y/%m/%d')\n",
    "    diffday1 = howManyDays(datetime.datetime.now().year-1)\n",
    "    day2 = ((day)+datetime.timedelta(days=-diffday1)).strftime('%Y/%m/%d')\n",
    "    diffday2 = diffday1+howManyDays(datetime.datetime.now().year-2)\n",
    "    day3 = ((day)+datetime.timedelta(days=-diffday2)).strftime('%Y/%m/%d')\n",
    "    return day1, day2, day3\n",
    "\n",
    "def getDayDetail(yyyy, mm, dd):#輸入指定日期，獲得當天年份、月份、格式化字串、星期\n",
    "    week = ['一','二','三','四','五','六','日']\n",
    "    day = datetime.date(yyyy, mm, dd)\n",
    "    dayFormat = day.strftime('%Y/%m/%d')\n",
    "    dayWeek = week[day.weekday()]\n",
    "    dayYear = day.year\n",
    "    dayMonth = day.month\n",
    "    return dayYear, dayMonth, dayFormat,dayWeek\n",
    "\n",
    "def gaDateDf():#獲得GA報表要輸入的日期篩選條件(昨天、去年同期、前年同期)\n",
    "        dateDf = pd.DataFrame()\n",
    "        dateDf['d1'] = ['yesterday']\n",
    "        diffday1 = howManyDays(datetime.datetime.now().year-1)\n",
    "        dateDf['d2'] = [str(diffday1)+'daysAgo']\n",
    "        diffday2 = diffday1+howManyDays(datetime.datetime.now().year-2)\n",
    "        dateDf['d3'] = [str(diffday2)+'daysAgo']\n",
    "        return dateDf\n",
    "        \n",
    "def reshapeGaData(gaDataDict):#輸入存有GA報表整理下來的字典(dictionary)後，會回傳整理過後的array\n",
    "    comArray = []\n",
    "    for key in gaDataDict.keys():\n",
    "        df = gaDataDict[key]\n",
    "        arr = df[df['Segment']=='Mobile Traffic'].drop('Segment', axis = 1).iloc[0].values.tolist()\n",
    "        arr.extend(df[df['Segment']=='Tablet and Desktop Traffic'].drop('Segment', axis = 1).iloc[0].values)\n",
    "        comArray.append(arr)\n",
    "    return comArray\n",
    "\n",
    "def reshapeGaDataArray(gaArray, gaColNameList, firstDate, secondDate, thirdDate):\n",
    "    #共有5個指標、2個區隔和6個頁面，columnName長度須為5的array(reshapeGaData整理好的)，\n",
    "    #指標順序為流量、使用者、入站、單次頁數、跳出率，\n",
    "    #日期格式為YYYY/m/d\n",
    "    d1Date = datetime.datetime.strptime(firstDate, '%Y/%m/%d')\n",
    "    d2Date = datetime.datetime.strptime(secondDate, '%Y/%m/%d')\n",
    "    d3Date = datetime.datetime.strptime(thirdDate, '%Y/%m/%d')\n",
    "    d1weekDay = getDayDetail(d1Date.year, d1Date.month, d1Date.day)[3]\n",
    "    d2weekDay = getDayDetail(d2Date.year, d2Date.month, d2Date.day)[3]\n",
    "    d3weekDay = getDayDetail(d3Date.year, d3Date.month, d3Date.day)[3]\n",
    "\n",
    "    d1DataList = []\n",
    "    d2DataList = []\n",
    "    d3DataList = []\n",
    "    for ind in np.arange(0,17, 3):\n",
    "        d1DataList.extend(gaArray[ind])\n",
    "        d2DataList.extend(gaArray[ind+1])\n",
    "        d3DataList.extend(gaArray[ind+2])\n",
    "    gaUpdateDf = pd.DataFrame([d1DataList, d2DataList, d3DataList], columns=gaColNameList*12)\n",
    "    gaUpdateDf.insert(0, 'weekday', [d1weekDay, d2weekDay, d3weekDay])\n",
    "    gaUpdateDf.insert(0, 'date', [firstDate, secondDate, thirdDate])\n",
    "    return gaUpdateDf\n"
   ]
  },
  {
   "cell_type": "code",
   "execution_count": 14,
   "metadata": {
    "ExecuteTime": {
     "end_time": "2022-12-21T01:29:20.490677Z",
     "start_time": "2022-12-21T01:29:20.390709Z"
    }
   },
   "outputs": [],
   "source": [
    "def get_week_of_month(year, month, day):#輸入指定日期，回傳指定日期為當月的第幾周\n",
    "    begin = int(datetime.date(year, month, 1).strftime(\"%W\"))\n",
    "    end = int(datetime.date(year, month, day).strftime(\"%W\"))\n",
    "    return end - begin \n",
    "\n",
    "def countByAgent(memDataD1, strs):\n",
    "    #輸入agentName經分類過(tMailAgentGroupMemberResultDetail之類的)的dataframe，和想要加總的分類\n",
    "    #回傳指定分類下的SEO、廣告等分類的新會員(主投)數量list\n",
    "    lists  = [memDataD1[memDataD1['agentName']==strs].dateFrom2.values.sum() + memDataD1[memDataD1['agentName']==strs].dateFrom4.values.sum(),\n",
    "                memDataD1[memDataD1['agentName']==strs].dateFrom3.values.sum() + memDataD1[memDataD1['agentName']==strs].dateFrom5.values.sum() + memDataD1[memDataD1['agentName']==strs].dateFrom6.values.sum()+memDataD1[memDataD1['agentName']==strs].dateFrom7.values.sum() + memDataD1[memDataD1['agentName']==strs].dateFrom9.values.sum() + memDataD1[memDataD1['agentName']==strs].dateFrom10.values.sum() + memDataD1[memDataD1['agentName']==strs].dateFrom11.values.sum(),\n",
    "                memDataD1[memDataD1['agentName']==strs].dateFrom1.values.sum() + memDataD1[memDataD1['agentName']==strs].dateFrom8.values.sum()+memDataD1[memDataD1['agentName']==strs].dateFrom99.values.sum() ,\n",
    "                np.nan,\n",
    "                (memDataD1[memDataD1['agentName']==strs].dateFrom2.values.sum() + memDataD1[memDataD1['agentName']==strs].dateFrom4.values.sum())+(memDataD1[memDataD1['agentName']==strs].dateFrom3.values.sum() + memDataD1[memDataD1['agentName']==strs].dateFrom5.values.sum() + memDataD1[memDataD1['agentName']==strs].dateFrom6.values.sum()+memDataD1[memDataD1['agentName']==strs].dateFrom7.values.sum() + memDataD1[memDataD1['agentName']==strs].dateFrom9.values.sum() + memDataD1[memDataD1['agentName']==strs].dateFrom10.values.sum() + memDataD1[memDataD1['agentName']==strs].dateFrom11.values.sum())+(memDataD1[memDataD1['agentName']==strs].dateFrom1.values.sum() + memDataD1[memDataD1['agentName']==strs].dateFrom8.values.sum()+memDataD1[memDataD1['agentName']==strs].dateFrom99.values.sum())]\n",
    "                \n",
    "\n",
    "    return lists\n",
    "\n",
    "def countFromSummary(memSumD1, strs):\n",
    "    #將agentName經分類過(tMailAgentGroupMemberResultDetail之類的table)的dataframe\n",
    "    #輸入以agentDept進行GroupBy的dataframe(類似各部門小計)，並輸入想要加總的分類\n",
    "    #回傳指定分類下，SEO、廣告等分類的新會員(主投)數量list\n",
    "    lists  = [memSumD1.loc[strs].dateFrom2+memSumD1.loc[strs].dateFrom4,\n",
    "            memSumD1.loc[strs].dateFrom3+memSumD1.loc[strs].dateFrom5+memSumD1.loc[strs].dateFrom6+memSumD1.loc[strs].dateFrom7+memSumD1.loc[strs].dateFrom9+memSumD1.loc[strs].dateFrom10+memSumD1.loc[strs].dateFrom11,\n",
    "            memSumD1.loc[strs].dateFrom1+memSumD1.loc[strs].dateFrom8+memSumD1.loc[strs].dateFrom99,\n",
    "            np.nan,\n",
    "            (memSumD1.loc[strs].dateFrom2+memSumD1.loc[strs].dateFrom4)+(memSumD1.loc[strs].dateFrom3+memSumD1.loc[strs].dateFrom5+memSumD1.loc[strs].dateFrom6+memSumD1.loc[strs].dateFrom7+memSumD1.loc[strs].dateFrom9+memSumD1.loc[strs].dateFrom10+memSumD1.loc[strs].dateFrom11)+(memSumD1.loc[strs].dateFrom1+memSumD1.loc[strs].dateFrom8+memSumD1.loc[strs].dateFrom99)]\n",
    "            \n",
    "\n",
    "    return lists\n",
    "\n",
    "\n",
    "def memTmailCalcuFunc(memDataD1, d1):\n",
    "    #輸入agentName經分類過(tMailAgentGroupMemberResultDetail之類的)的dataframe，和對應的日期，\n",
    "    #回傳符合內部報表需要的計算及格式的dataframe\n",
    "    memDataD1.loc[memDataD1.agentName.str.contains('測評'), 'agentName'] = memDataD1.loc[memDataD1.agentName.str.contains('測評')].agentName.str.replace('測評' , '校園')\n",
    "    memDataD1.loc[memDataD1.agentName.str.contains('測評'), 'agentDept'] = '校園經營部'\n",
    "    memDataD1.loc[memDataD1.agentDept.str.contains('事業'), 'agentDept'] = memDataD1.loc[memDataD1.agentDept.str.contains('事業')].agentDept.str.replace('事業' , '經營')\n",
    "    \n",
    "    \n",
    "    memDataD1.loc[memDataD1.agentName.str.contains('兼差打工'), 'agentDept'] = '校園經營部'\n",
    "    memDataD1.loc[memDataD1.agentName.str.contains('家教網'), 'agentDept'] = '校園經營部'\n",
    "    memDataD1.loc[memDataD1.agentName.str.contains('落點分析'), 'agentDept'] = '校園經營部'\n",
    "    memDataD1.loc[memDataD1.agentName.str.contains('Holland'), 'agentDept'] = '校園經營部'\n",
    "    memDataD1.loc[memDataD1.agentName.str.contains('大學網'), 'agentDept'] = '校園經營部'\n",
    "    memDataD1.loc[memDataD1.agentName.str.contains('職涯大師'), 'agentDept'] = '校園經營部'\n",
    "    memDataD1.loc[memDataD1.agentName.str.contains('校園徵才'), 'agentDept'] = '校園經營部'\n",
    "    memDataD1.loc[memDataD1.agentName.str.contains('新鮮人找工作'), 'agentDept'] = '校園經營部'\n",
    "    memDataD1.loc[memDataD1.agentName.str.contains('產學平台.含實習.'), 'agentDept'] = '校園經營部'\n",
    "    \n",
    "    memDataD1.loc[memDataD1.agentName.str.contains('兼差打工'), 'agentName'] = '校園_專區_兼差打工'\n",
    "    memDataD1.loc[memDataD1.agentName.str.contains('家教網'), 'agentName'] = '校園_專區_家教網'\n",
    "    memDataD1.loc[memDataD1.agentName.str.contains('大學網'), 'agentName'] = '校園_專區_大學網'\n",
    "    memDataD1.loc[memDataD1.agentName.str.contains('落點分析'), 'agentName'] = '校園_專區_落點分析'\n",
    "    memDataD1.loc[memDataD1.agentName.str.contains('Holland'), 'agentName'] = '校園_專區_Holland'\n",
    "    memDataD1.loc[memDataD1.agentName.str.contains('職涯大師'), 'agentName'] = '校園_專區_職涯大師'\n",
    "    memDataD1.loc[memDataD1.agentName.str.contains('校園徵才'), 'agentName'] = '校園_專區_校園徵才'\n",
    "    memDataD1.loc[memDataD1.agentName.str.contains('新鮮人找工作'), 'agentName'] = '校園_專區_新鮮人找工作'\n",
    "    memDataD1.loc[memDataD1.agentName.str.contains('產學平台.含實習.'), 'agentName'] = '校園_專區_產學平台(含實習)'\n",
    "\n",
    "    \n",
    "    #計算各類小記\n",
    "    memSumD1 = memDataD1.groupby(['agentDept']).sum()\n",
    "    \n",
    "    #判斷是否所需欄位_原始資料\n",
    "    if len(memDataD1[memDataD1['agentName']=='校園_專區_兼差打工'].dateFrom2)==0:\n",
    "        insertDf = pd.DataFrame([0, '校園_專區_兼差打工']+[0]*18)\n",
    "        insertDf['col'] = memDataD1.columns\n",
    "        insertDf.set_index(['col'], inplace=True)\n",
    "        memDataD1 = memDataD1.append(insertDf.T, ignore_index=True)\n",
    "\n",
    "    if len(memDataD1[memDataD1['agentName']=='校園_專區_家教網'].dateFrom2)==0:\n",
    "        insertDf = pd.DataFrame([0, '校園_專區_家教網']+[0]*18)\n",
    "        insertDf['col'] = memDataD1.columns\n",
    "        insertDf.set_index(['col'], inplace=True)\n",
    "        memDataD1 = memDataD1.append(insertDf.T, ignore_index=True)\n",
    "\n",
    "    if len(memDataD1[memDataD1['agentName']=='校園_九大職能星'].dateFrom2)==0:\n",
    "        insertDf = pd.DataFrame([0, '校園_九大職能星']+[0]*18)\n",
    "        insertDf['col'] = memDataD1.columns\n",
    "        insertDf.set_index(['col'], inplace=True)\n",
    "        memDataD1 = memDataD1.append(insertDf.T, ignore_index=True)\n",
    "\n",
    "    if len(memDataD1[memDataD1['agentName']=='校園_專區_落點分析'].dateFrom2)==0:\n",
    "        insertDf = pd.DataFrame([0, '校園_專區_落點分析']+[0]*18)\n",
    "        insertDf['col'] = memDataD1.columns\n",
    "        insertDf.set_index(['col'], inplace=True)\n",
    "        memDataD1 = memDataD1.append(insertDf.T, ignore_index=True)\n",
    "\n",
    "    if len(memDataD1[memDataD1['agentName']=='校園_專區_Holland'].dateFrom2)==0:\n",
    "        insertDf = pd.DataFrame([0, '校園_專區_Holland']+[0]*18)\n",
    "        insertDf['col'] = memDataD1.columns\n",
    "        insertDf.set_index(['col'], inplace=True)\n",
    "        memDataD1 = memDataD1.append(insertDf.T, ignore_index=True)\n",
    "\n",
    "    if len(memDataD1[memDataD1['agentName']=='校園_實體校徵'].dateFrom2)==0:\n",
    "        insertDf = pd.DataFrame([0, '校園_實體校徵']+[0]*18)\n",
    "        insertDf['col'] = memDataD1.columns\n",
    "        insertDf.set_index(['col'], inplace=True)\n",
    "        memDataD1 = memDataD1.append(insertDf.T, ignore_index=True)\n",
    "\n",
    "    if len(memDataD1[memDataD1['agentName']=='APP_iOS'].dateFrom2)==0:\n",
    "        insertDf = pd.DataFrame([0, 'APP_iOS']+[0]*18)\n",
    "        insertDf['col'] = memDataD1.columns\n",
    "        insertDf.set_index(['col'], inplace=True)\n",
    "        memDataD1 = memDataD1.append(insertDf.T, ignore_index=True)\n",
    "\n",
    "    if len(memDataD1[memDataD1['agentName']=='APP_Android'].dateFrom2)==0:\n",
    "        insertDf = pd.DataFrame([0, 'APP_Android']+[0]*18)\n",
    "        insertDf['col'] = memDataD1.columns\n",
    "        insertDf.set_index(['col'], inplace=True)\n",
    "        memDataD1 = memDataD1.append(insertDf.T, ignore_index=True)\n",
    "\n",
    "    #判斷是否所需欄位_Summary資料\n",
    "    if len(memDataD1[memDataD1['agentDept']=='社群經營中心'].dateFrom2)==0:\n",
    "        memSumD1.loc['社群經營中心'] = [0]*17\n",
    "    if len(memDataD1[memDataD1['agentDept']=='企劃部'].dateFrom2)==0:\n",
    "        memSumD1.loc['企劃部'] = [0]*17\n",
    "    if len(memDataD1[memDataD1['agentDept']=='校園經營部'].dateFrom2)==0:\n",
    "        memSumD1.loc['校園經營部'] = [0]*17\n",
    "    if len(memDataD1[memDataD1['agentDept']=='媒體中心'].dateFrom2)==0:\n",
    "        memSumD1.loc['媒體中心'] = [0]*17\n",
    "\n",
    "\n",
    "\n",
    "    #數值計算\n",
    "    #技術中心\n",
    "    mainWeb = countFromSummary(memSumD1, '主網_PC')\n",
    "    \n",
    "    mainMobile = countFromSummary(memSumD1, '主網_M版')\n",
    "\n",
    "    appIos = [np.nan, np.nan, np.nan, memDataD1[memDataD1['agentName']=='APP_iOS'].dateMain.values.sum(), memDataD1[memDataD1['agentName']=='APP_iOS'].dateMain.values.sum()]\n",
    "    appAnd = [np.nan, np.nan, np.nan, memDataD1[memDataD1['agentName']=='APP_Android'].dateMain.values.sum(), memDataD1[memDataD1['agentName']=='APP_Android'].dateMain.values.sum()]\n",
    "    memDf1 = pd.DataFrame()\n",
    "    memDf1['mainWeb'] = mainWeb\n",
    "    memDf1['mainMobile'] = mainMobile\n",
    "    memDf1['appIos'] = appIos\n",
    "    memDf1['appAnd'] = appAnd\n",
    "    memDf1['total1'] = memDf1['mainWeb'].fillna(0) + memDf1['mainMobile'].fillna(0) + memDf1['appIos'].fillna(0) + memDf1['appAnd'].fillna(0)\n",
    "\n",
    "    #數位經營中心\n",
    "    planAct = countFromSummary(memSumD1, '企劃部')\n",
    "\n",
    "    planPt = countByAgent(memDataD1, '校園_專區_兼差打工')\n",
    "\n",
    "    plantotur = countByAgent(memDataD1, '校園_專區_家教網')\n",
    "                \n",
    "    test9  = countByAgent(memDataD1, '校園_九大職能星')\n",
    "\n",
    "    planPoint  = countByAgent(memDataD1, '校園_專區_落點分析')\n",
    "\n",
    "    planHolland = countByAgent(memDataD1, '校園_專區_Holland')\n",
    "\n",
    "    planHire = countByAgent(memDataD1, '校園_實體校徵')\n",
    "\n",
    "    digT = countFromSummary(memSumD1, '校園經營部')\n",
    "    digTotal = [digT[0]+planAct[0],\n",
    "               digT[1]+planAct[1],\n",
    "               digT[2]+planAct[2],\n",
    "               np.nan,\n",
    "               digT[4]+planAct[4]]\n",
    "    \n",
    "    digOrther = [digTotal[0]-planAct[0]-planPt[0]-plantotur[0]-test9[0]-planPoint[0]-planHolland[0]-planHire[0],\n",
    "                digTotal[1]-planAct[1]-planPt[1]-plantotur[1]-test9[1]-planPoint[1]-planHolland[1]-planHire[1],\n",
    "                digTotal[2]-planAct[2]-planPt[2]-plantotur[2]-test9[2]-planPoint[2]-planHolland[2]-planHire[2],\n",
    "                np.nan,\n",
    "                digTotal[4]-planAct[4]-planPt[4]-plantotur[4]-test9[4]-planPoint[4]-planHolland[4]-planHire[4]]\n",
    "\n",
    "    memDf2 = pd.DataFrame()\n",
    "    memDf2['planAct'] = planAct\n",
    "    memDf2['planPt'] = planPt\n",
    "    memDf2['plantotur'] = plantotur\n",
    "    memDf2['test9'] = test9\n",
    "    memDf2['planPoint'] = planPoint\n",
    "    memDf2['planHolland'] = planHolland\n",
    "    memDf2['planHire'] = planHire\n",
    "    memDf2['planHolland'] = planHolland\n",
    "    memDf2['digOrther'] = digOrther\n",
    "    memDf2['total2'] = digTotal\n",
    "\n",
    "    #媒體中心\n",
    "    commu = countFromSummary(memSumD1, '社群經營中心')\n",
    "\n",
    "    mad = countFromSummary(memSumD1, '媒體中心')\n",
    "    \n",
    "    commuTotal = [commu[0] + mad[0],\n",
    "            commu[1] + mad[1],\n",
    "            commu[2] + mad[2],\n",
    "            np.nan,\n",
    "            commu[4] + mad[4]]\n",
    "\n",
    "    memDf3 = pd.DataFrame()\n",
    "    memDf3['commu'] = commu\n",
    "    memDf3['mad'] = mad\n",
    "    memDf3['total3'] = commuTotal\n",
    "\n",
    "\n",
    "    #結果合併\n",
    "    fal = pd.concat([memDf1, memDf2, memDf3], axis=1)\n",
    "    fal['total4'] = fal.total1.fillna(0) + fal.total2.fillna(0) + fal.total3.fillna(0)\n",
    "    mrClass = ['SEO','廣告','自然/其他','APP','合計']\n",
    "    fal.insert(loc=0, column='Source', value=mrClass)\n",
    "    dateCol = [d1]*5\n",
    "    fal.insert(loc=0, column='Date', value=dateCol)\n",
    "    fal.fillna('-', inplace= True)\n",
    "\n",
    "    return fal"
   ]
  },
  {
   "cell_type": "code",
   "execution_count": 8,
   "metadata": {
    "ExecuteTime": {
     "end_time": "2022-12-21T01:23:24.925191Z",
     "start_time": "2022-12-21T01:23:24.894181Z"
    }
   },
   "outputs": [],
   "source": [
    "def memSourFunc(memDataD1, d1):\n",
    "    memSumm = memDataD1.sum()\n",
    "\n",
    "    #判斷是否所需欄位_原始資料\n",
    "\n",
    "    if len(memDataD1[memDataD1['agentName']=='企劃_專區_落點分析'].dateFrom2)==0:\n",
    "        insertDf = pd.DataFrame([0, '企劃_專區_落點分析']+[0]*18)\n",
    "        insertDf['col'] = memDataD1.columns\n",
    "        insertDf.set_index(['col'], inplace=True)\n",
    "        memDataD1 = memDataD1.append(insertDf.T, ignore_index=True)\n",
    "\n",
    "    if len(memDataD1[memDataD1['agentName']=='測評_九大職能星'].dateFrom2)==0:\n",
    "        insertDf = pd.DataFrame([0, '測評_九大職能星']+[0]*18)\n",
    "        insertDf['col'] = memDataD1.columns\n",
    "        insertDf.set_index(['col'], inplace=True)\n",
    "        memDataD1 = memDataD1.append(insertDf.T, ignore_index=True)\n",
    "\n",
    "    if len(memDataD1[memDataD1['agentName']=='APP_iOS'].dateFrom2)==0:\n",
    "        insertDf = pd.DataFrame([0, 'APP_iOS']+[0]*18)\n",
    "        insertDf['col'] = memDataD1.columns\n",
    "        insertDf.set_index(['col'], inplace=True)\n",
    "        memDataD1 = memDataD1.append(insertDf.T, ignore_index=True)\n",
    "\n",
    "    if len(memDataD1[memDataD1['agentName']=='APP_Android'].dateFrom2)==0:\n",
    "        insertDf = pd.DataFrame([0, 'APP_Android']+[0]*18)\n",
    "        insertDf['col'] = memDataD1.columns\n",
    "        insertDf.set_index(['col'], inplace=True)\n",
    "        memDataD1 = memDataD1.append(insertDf.T, ignore_index=True)\n",
    "\n",
    "    memFromTotal = [memSumm.dateFrom2, \n",
    "                memSumm.dateFrom3, \n",
    "                memSumm.dateMain - memSumm.dateApp - memSumm.dateFrom2 - memSumm.dateFrom3, \n",
    "                (memSumm.dateFrom2+memSumm.dateFrom3+(memSumm.dateMain - memSumm.dateApp - memSumm.dateFrom2 - memSumm.dateFrom3)),\n",
    "                memSumm.dateApp, \n",
    "                memSumm.dateMain]\n",
    "     \n",
    "\n",
    "    memFrom9 = [memDataD1[memDataD1['agentName']=='測評_九大職能星'].dateFrom2.values.sum(), \n",
    "                memDataD1[memDataD1['agentName']=='測評_九大職能星'].dateFrom3.values.sum(), \n",
    "                memDataD1[memDataD1['agentName']=='測評_九大職能星'].dateMain.values.sum() - (memDataD1[memDataD1['agentName']=='測評_九大職能星'].dateFrom2.values.sum()) - (memDataD1[memDataD1['agentName']=='測評_九大職能星'].dateFrom3.values.sum()), \n",
    "                memDataD1[memDataD1['agentName']=='測評_九大職能星'].dateMain.values.sum()]\n",
    "    \n",
    "\n",
    "    memFromPoint = [memDataD1[memDataD1['agentName']=='企劃_專區_落點分析'].dateFrom2.values.sum(), \n",
    "                memDataD1[memDataD1['agentName']=='企劃_專區_落點分析'].dateFrom3.values.sum(), \n",
    "                memDataD1[memDataD1['agentName']=='企劃_專區_落點分析'].dateMain.values.sum() - (memDataD1[memDataD1['agentName']=='企劃_專區_落點分析'].dateFrom2.values.sum()) - (memDataD1[memDataD1['agentName']=='企劃_專區_落點分析'].dateFrom3.values.sum()), \n",
    "                memDataD1[memDataD1['agentName']=='企劃_專區_落點分析'].dateMain.values.sum()]\n",
    "    \n",
    "\n",
    "    memFromExc9P = [memFromTotal[0]-memFrom9[0]-memFromPoint[0],\n",
    "                    memFromTotal[1]-memFrom9[1]-memFromPoint[1],\n",
    "                    memFromTotal[2]-memFrom9[2]-memFromPoint[2],\n",
    "                    memFromTotal[3]-memFrom9[3]-memFromPoint[3]]\n",
    "    \n",
    "\n",
    "    memFromApp = [memDataD1[memDataD1['agentName']=='APP_iOS'].dateMain.values.sum(), \n",
    "                memDataD1[memDataD1['agentName']=='APP_Android'].dateMain.values.sum(), \n",
    "                (memDataD1[memDataD1['agentName']=='APP_iOS'].dateMain.values.sum()+ memDataD1[memDataD1['agentName']=='APP_Android'].dateMain.values.sum())]\n",
    "    \n",
    "    tabSourList = [d1, memSumm.dateFrom2, \n",
    "                memSumm.dateFrom3, \n",
    "                memSumm.dateMain - memSumm.dateApp - memSumm.dateFrom2 - memSumm.dateFrom3, \n",
    "                (memSumm.dateFrom2+memSumm.dateFrom3+(memSumm.dateMain - memSumm.dateApp - memSumm.dateFrom2 - memSumm.dateFrom3)),\n",
    "                memDataD1[memDataD1['agentName']=='APP_iOS'].dateMain.values.sum(), \n",
    "                memDataD1[memDataD1['agentName']=='APP_Android'].dateMain.values.sum(), \n",
    "                (memDataD1[memDataD1['agentName']=='APP_iOS'].dateMain.values.sum()+ memDataD1[memDataD1['agentName']=='APP_Android'].dateMain.values.sum()),\n",
    "                ((memSumm.dateFrom2+memSumm.dateFrom3+(memSumm.dateMain - memSumm.dateApp - memSumm.dateFrom2 - memSumm.dateFrom3)))+((memDataD1[memDataD1['agentName']=='APP_iOS'].dateMain.values.sum()+ memDataD1[memDataD1['agentName']=='APP_Android'].dateMain.values.sum()) )]\n",
    "                \n",
    "    memFromTotal = [str(i) for i in memFromTotal]\n",
    "    memFrom9 = [str(i) for i in memFrom9] \n",
    "    memFromPoint = [str(i) for i in memFromPoint] \n",
    "    memFromExc9P = [str(i) for i in memFromExc9P]\n",
    "    memFromApp = [str(i) for i in memFromApp] \n",
    "    tabSourList = [str(i) for i in tabSourList] \n",
    "\n",
    "    week = ['一','二','三','四','五','六','日']\n",
    "    dayWeek = week[datetime.datetime.strptime(d1, '%Y/%m/%d').weekday()]\n",
    "\n",
    "    falDf = pd.DataFrame([d1]+[dayWeek]+memFromTotal+memFrom9+memFromPoint+memFromExc9P+memFromApp)\n",
    "    falDf['col'] = ['日期','W','SEO','廣告','其他','小計','APP','合計','SEO','廣告','其他','小計','SEO','廣告','其他','小計','SEO','廣告','其他','小計','ios','Android','小計']\n",
    "    falDf = falDf.set_index(['col']).T\n",
    "    tabSourDf = pd.DataFrame(tabSourList).T\n",
    "\n",
    "    return falDf, tabSourDf"
   ]
  },
  {
   "cell_type": "markdown",
   "metadata": {
    "heading_collapsed": true
   },
   "source": [
    "# GA Report"
   ]
  },
  {
   "cell_type": "code",
   "execution_count": 71,
   "metadata": {
    "hidden": true
   },
   "outputs": [
    {
     "name": "stdout",
     "output_type": "stream",
     "text": [
      "setCompare3Days return is 2022/12/16 2021/12/17 2020/12/18\n"
     ]
    }
   ],
   "source": [
    "#[google analytics]\n",
    "spreadsheetIdList = ['1EA0fY7FVFRCG2ihC6Ildfigxgt5oeM0NIzbv6kwFQlw', '1WQK-7M3xA2dmSTOjZ94fbb4q3R1peeXCush6HyHv3G0', '1XqLC6SbSHhQ7bN4y_HKE8T1Y_4BHOxlqcG6LPZZqfu4',\n",
    "                    '1g47eB68biLPC_kpSPw7Pkjf3yzDlZArq3bIEa5SpuT8', '1l1HysPLwGJihgUM4KwtCY8ydkm8Rc0Mab-SuP2-WevE', '1Sz8Ge7XeZGvJhQDHbRZyWreafCdrl5wB6PcRghZODjc']\n",
    "dfNameList = ['allPage', 'mainPage', 'homePage', 'corpPage', 'empPage', 'resultPage']\n",
    "\n",
    "sheetNameList = ['summaryD1', 'summaryD2', 'summaryD3']\n",
    "gaDataDict = dict()\n",
    "\n",
    "SEOsheetNameList = ['summarySEOD1', 'summarySEOD2', 'summarySEOD3']\n",
    "gaSEODataDict = dict()\n",
    "\n",
    "for i in range(len(spreadsheetIdList)):\n",
    "    for j in range(len(sheetNameList)):\n",
    "        sheet = GoogleSheets().getWorksheet(\n",
    "            spreadsheetId=spreadsheetIdList[i],\n",
    "            range=sheetNameList[j])\n",
    "        colName = sheet[0]\n",
    "        df = pd.DataFrame(sheet[1:], columns=colName)\n",
    "        dictKey = dfNameList[i]+'_'+sheetNameList[j]\n",
    "        gaDataDict[dictKey] = df\n",
    "\n",
    "        sheet = GoogleSheets().getWorksheet(\n",
    "            spreadsheetId=spreadsheetIdList[i],\n",
    "            range=SEOsheetNameList[j])\n",
    "        colName = sheet[0]\n",
    "        df2 = pd.DataFrame(sheet[1:], columns=colName)\n",
    "        dictKey2 = dfNameList[i]+'_'+SEOsheetNameList[j]\n",
    "        gaSEODataDict[dictKey2] = df2\n",
    "\n",
    "#自動化排程執行程式\n",
    "# d1, d2, d3 = getCompare3DaysToday()\n",
    "# col = gaDataDict['allPage_summaryD1'].drop(['Segment'], axis = 1).columns.tolist()\n",
    "# gaArray = reshapeGaData(gaDataDict)\n",
    "# gaArraySEO = reshapeGaData(gaSEODataDict)\n",
    "\n",
    "# gaFalDf = reshapeGaDataArray(gaArray=gaArray, gaColNameList=col, firstDate=d1, secondDate=d2, thirdDate=d3)\n",
    "# gaSEOFalDf = reshapeGaDataArray(gaArray=gaArraySEO, gaColNameList=col, firstDate=d1, secondDate=d2, thirdDate=d3)\n",
    "\n",
    "#手動需執行程式\n",
    "d1, d2, d3 = setCompare3Days(2022, 12, 17)\n",
    "print('setCompare3Days return is', d1, d2, d3)\n",
    "col = gaDataDict['allPage_summaryD1'].drop(['Segment'], axis = 1).columns.tolist()\n",
    "gaArray = reshapeGaData(gaDataDict)\n",
    "gaArraySEO = reshapeGaData(gaSEODataDict)\n",
    "\n",
    "gaFalDf = reshapeGaDataArray(gaArray=gaArray, gaColNameList=col, firstDate=d1, secondDate=d2, thirdDate=d3)\n",
    "gaSEOFalDf = reshapeGaDataArray(gaArray=gaArraySEO, gaColNameList=col, firstDate=d1, secondDate=d2, thirdDate=d3)\n",
    "\n",
    "GoogleSheets().appendWorksheet(\n",
    "        spreadsheetId='1tOUO7ZCOJSXLaBb_BYRlYfzceOVYpxyRlKDEKyoEHq0',\n",
    "        range='GA',\n",
    "        df=gaFalDf\n",
    ")\n",
    "GoogleSheets().appendWorksheet(\n",
    "        spreadsheetId='1tOUO7ZCOJSXLaBb_BYRlYfzceOVYpxyRlKDEKyoEHq0',\n",
    "        range='GA_SEO',\n",
    "        df=gaSEOFalDf\n",
    ")"
   ]
  },
  {
   "cell_type": "code",
   "execution_count": 72,
   "metadata": {
    "hidden": true
   },
   "outputs": [
    {
     "data": {
      "text/plain": [
       "'done'"
      ]
     },
     "execution_count": 72,
     "metadata": {},
     "output_type": "execute_result"
    }
   ],
   "source": [
    "# Tableau\n",
    "tGaDf = gaFalDf['流量']\n",
    "tGaDf.insert(0,column = 'date', value = gaFalDf['date'].values.tolist())\n",
    "GoogleSheets().appendWorksheet(\n",
    "        spreadsheetId='1Qc3aF_ukiLzX2wKI1B4U9i86h4wSZPPPi7TqoIarZsY',\n",
    "        range='Sheet1',\n",
    "        df=tGaDf\n",
    ")"
   ]
  },
  {
   "cell_type": "markdown",
   "metadata": {
    "heading_collapsed": true
   },
   "source": [
    "# 會員主投流量報表"
   ]
  },
  {
   "cell_type": "markdown",
   "metadata": {
    "heading_collapsed": true,
    "hidden": true
   },
   "source": [
    "## IOS"
   ]
  },
  {
   "cell_type": "code",
   "execution_count": 35,
   "metadata": {
    "ExecuteTime": {
     "end_time": "2022-10-18T09:48:13.899500Z",
     "start_time": "2022-10-18T09:48:10.580975Z"
    },
    "hidden": true
   },
   "outputs": [],
   "source": [
    "cursor.execute('''\n",
    "select coun.dayIn, coun.tmailCount, dist.talentCount, 'ios' as 'agent'\n",
    "from (select Convert(varchar(10),dateIn,120) as dayIn, COUNT(*) as tmailCount\n",
    "from tMailAgentAnalyze2022\n",
    "where agent like '%ios%' \n",
    "group by Convert(varchar(10),dateIn,120)) as coun\n",
    "\n",
    "inner join\n",
    "\n",
    "(select a.dayIn, COUNT(*)  as talentCount\n",
    "from\n",
    "(select DISTINCT talentNo , Convert(varchar(10),dateIn,120) as dayIn\n",
    "from tMailAgentAnalyze2022\n",
    "where agent like '%ios%') as a\n",
    "group by a.dayIn) as dist\n",
    "on coun.dayIn = dist.dayIn\n",
    "where coun.dayIn = (SELECT CONVERT(varchar(10) ,DATEADD(day, -1, getDate() ),120 ) )\n",
    ";\n",
    "''')"
   ]
  },
  {
   "cell_type": "code",
   "execution_count": 36,
   "metadata": {
    "ExecuteTime": {
     "end_time": "2022-10-18T09:48:13.946854Z",
     "start_time": "2022-10-18T09:48:13.932512Z"
    },
    "hidden": true
   },
   "outputs": [
    {
     "data": {
      "text/html": [
       "<div>\n",
       "<style scoped>\n",
       "    .dataframe tbody tr th:only-of-type {\n",
       "        vertical-align: middle;\n",
       "    }\n",
       "\n",
       "    .dataframe tbody tr th {\n",
       "        vertical-align: top;\n",
       "    }\n",
       "\n",
       "    .dataframe thead th {\n",
       "        text-align: right;\n",
       "    }\n",
       "</style>\n",
       "<table border=\"1\" class=\"dataframe\">\n",
       "  <thead>\n",
       "    <tr style=\"text-align: right;\">\n",
       "      <th></th>\n",
       "      <th>dayIn</th>\n",
       "      <th>tmailCount</th>\n",
       "      <th>talentCount</th>\n",
       "      <th>agent</th>\n",
       "    </tr>\n",
       "  </thead>\n",
       "  <tbody>\n",
       "    <tr>\n",
       "      <th>0</th>\n",
       "      <td>2022-12-14</td>\n",
       "      <td>10985</td>\n",
       "      <td>4088</td>\n",
       "      <td>ios</td>\n",
       "    </tr>\n",
       "  </tbody>\n",
       "</table>\n",
       "</div>"
      ],
      "text/plain": [
       "        dayIn  tmailCount  talentCount agent\n",
       "0  2022-12-14       10985         4088   ios"
      ]
     },
     "execution_count": 36,
     "metadata": {},
     "output_type": "execute_result"
    }
   ],
   "source": [
    "result = cursor.fetchall()\n",
    "\n",
    "iosDelivDf = pd.DataFrame(result)\n",
    "iosDelivDf"
   ]
  },
  {
   "cell_type": "markdown",
   "metadata": {
    "heading_collapsed": true,
    "hidden": true
   },
   "source": [
    "## Android"
   ]
  },
  {
   "cell_type": "code",
   "execution_count": 37,
   "metadata": {
    "ExecuteTime": {
     "end_time": "2022-10-18T09:48:18.717789Z",
     "start_time": "2022-10-18T09:48:15.629730Z"
    },
    "hidden": true
   },
   "outputs": [],
   "source": [
    "cursor.execute('''\n",
    "select coun.dayIn, coun.tmailCount, dist.talentCount, 'android' as 'agent'\n",
    "from (select Convert(varchar(10),dateIn,120) as dayIn, COUNT(*) as tmailCount\n",
    "from tMailAgentAnalyze2022\n",
    "where agent like '%android%' \n",
    "group by Convert(varchar(10),dateIn,120)) as coun\n",
    "\n",
    "inner join\n",
    "\n",
    "(select a.dayIn, COUNT(*)  as talentCount\n",
    "from\n",
    "(select DISTINCT talentNo , Convert(varchar(10),dateIn,120) as dayIn\n",
    "from tMailAgentAnalyze2022\n",
    "where agent like '%android%') as a\n",
    "group by a.dayIn) as dist\n",
    "on coun.dayIn = dist.dayIn\n",
    "where coun.dayIn = (SELECT CONVERT(varchar(10) ,DATEADD(day, -1, getDate() ),120 ) )\n",
    ";\n",
    "''')"
   ]
  },
  {
   "cell_type": "code",
   "execution_count": 38,
   "metadata": {
    "ExecuteTime": {
     "end_time": "2022-10-18T09:48:18.765735Z",
     "start_time": "2022-10-18T09:48:18.750729Z"
    },
    "hidden": true
   },
   "outputs": [
    {
     "data": {
      "text/html": [
       "<div>\n",
       "<style scoped>\n",
       "    .dataframe tbody tr th:only-of-type {\n",
       "        vertical-align: middle;\n",
       "    }\n",
       "\n",
       "    .dataframe tbody tr th {\n",
       "        vertical-align: top;\n",
       "    }\n",
       "\n",
       "    .dataframe thead th {\n",
       "        text-align: right;\n",
       "    }\n",
       "</style>\n",
       "<table border=\"1\" class=\"dataframe\">\n",
       "  <thead>\n",
       "    <tr style=\"text-align: right;\">\n",
       "      <th></th>\n",
       "      <th>dayIn</th>\n",
       "      <th>tmailCount</th>\n",
       "      <th>talentCount</th>\n",
       "      <th>agent</th>\n",
       "    </tr>\n",
       "  </thead>\n",
       "  <tbody>\n",
       "    <tr>\n",
       "      <th>0</th>\n",
       "      <td>2022-12-14</td>\n",
       "      <td>5955</td>\n",
       "      <td>2139</td>\n",
       "      <td>android</td>\n",
       "    </tr>\n",
       "  </tbody>\n",
       "</table>\n",
       "</div>"
      ],
      "text/plain": [
       "        dayIn  tmailCount  talentCount    agent\n",
       "0  2022-12-14        5955         2139  android"
      ]
     },
     "execution_count": 38,
     "metadata": {},
     "output_type": "execute_result"
    }
   ],
   "source": [
    "result = cursor.fetchall()\n",
    "\n",
    "andDelivDf = pd.DataFrame(result)\n",
    "andDelivDf"
   ]
  },
  {
   "cell_type": "markdown",
   "metadata": {
    "heading_collapsed": true,
    "hidden": true
   },
   "source": [
    "## Web&Mobile"
   ]
  },
  {
   "cell_type": "code",
   "execution_count": 39,
   "metadata": {
    "ExecuteTime": {
     "end_time": "2022-10-18T09:48:47.206648Z",
     "start_time": "2022-10-18T09:48:41.253952Z"
    },
    "hidden": true
   },
   "outputs": [],
   "source": [
    "#主投、會員人數\n",
    "cursor.execute('''\n",
    "select w.dayIn, w.web, m.mobile , allC.allTalent\n",
    "from (select Convert(varchar(10),dateIn,120) as dayIn, count(distinct(talentNo)) as web\n",
    "from tMailAgentAnalyze2022\n",
    "where sNo not in (select sNo from tMailAgentAnalyze2022 where agent like '%mobile1_%' escape 1 or agent like '%1_app1_%' escape 1) \n",
    "group by Convert(varchar(10),dateIn,120)) as w\n",
    "inner join \n",
    "(select Convert(varchar(10),dateIn,120) as dayIn, count(distinct(talentNo)) as mobile\n",
    "from tMailAgentAnalyze2022\n",
    "where sNo in (select sNo from tMailAgentAnalyze2022 where agent like '%mobile1_%' escape 1 and agent not like '%1_app1_%' escape 1) \n",
    "group by Convert(varchar(10),dateIn,120)) as m\n",
    "on w.dayIn = m.dayIn\n",
    "inner join \n",
    "(select Convert(varchar(10),dateIn,120) as dayIn, count(distinct(talentNo)) as allTalent\n",
    "from tMailAgentAnalyze2022\n",
    "group by Convert(varchar(10),dateIn,120)) as allC\n",
    "on allC.dayIn = m.dayIn\n",
    "where w.dayIn = (SELECT CONVERT(varchar(10) ,DATEADD(day, -1, getDate() ),120 ) )\n",
    ";\n",
    "''')"
   ]
  },
  {
   "cell_type": "code",
   "execution_count": 40,
   "metadata": {
    "ExecuteTime": {
     "end_time": "2022-10-18T09:48:47.282766Z",
     "start_time": "2022-10-18T09:48:47.268756Z"
    },
    "hidden": true
   },
   "outputs": [
    {
     "data": {
      "text/html": [
       "<div>\n",
       "<style scoped>\n",
       "    .dataframe tbody tr th:only-of-type {\n",
       "        vertical-align: middle;\n",
       "    }\n",
       "\n",
       "    .dataframe tbody tr th {\n",
       "        vertical-align: top;\n",
       "    }\n",
       "\n",
       "    .dataframe thead th {\n",
       "        text-align: right;\n",
       "    }\n",
       "</style>\n",
       "<table border=\"1\" class=\"dataframe\">\n",
       "  <thead>\n",
       "    <tr style=\"text-align: right;\">\n",
       "      <th></th>\n",
       "      <th>dayIn</th>\n",
       "      <th>web</th>\n",
       "      <th>mobile</th>\n",
       "      <th>allTalent</th>\n",
       "    </tr>\n",
       "  </thead>\n",
       "  <tbody>\n",
       "    <tr>\n",
       "      <th>0</th>\n",
       "      <td>2022-12-14</td>\n",
       "      <td>1915</td>\n",
       "      <td>1858</td>\n",
       "      <td>9785</td>\n",
       "    </tr>\n",
       "  </tbody>\n",
       "</table>\n",
       "</div>"
      ],
      "text/plain": [
       "        dayIn   web  mobile  allTalent\n",
       "0  2022-12-14  1915    1858       9785"
      ]
     },
     "execution_count": 40,
     "metadata": {},
     "output_type": "execute_result"
    }
   ],
   "source": [
    "result = cursor.fetchall()\n",
    "\n",
    "webMobileDfTalent = pd.DataFrame(result)\n",
    "webMobileDfTalent"
   ]
  },
  {
   "cell_type": "code",
   "execution_count": 41,
   "metadata": {
    "hidden": true
   },
   "outputs": [],
   "source": [
    "#主投、會員次數\n",
    "cursor.execute('''\n",
    "select w.dayIn, w.web, m.mobile , (w.web+ m.mobile)  as allTalent\n",
    "from (select Convert(varchar(10),dateIn,120) as dayIn, count(talentNo) as web\n",
    "from tMailAgentAnalyze2022\n",
    "where sNo not in (select sNo from tMailAgentAnalyze2022 where agent like '%mobile1_%' escape 1 or agent like '%1_app1_%' escape 1)\n",
    "group by Convert(varchar(10),dateIn,120)) as w\n",
    "inner join \n",
    "(select Convert(varchar(10),dateIn,120) as dayIn, count(talentNo) as mobile\n",
    "from tMailAgentAnalyze2022\n",
    "where sNo in (select sNo from tMailAgentAnalyze2022 where agent like '%mobile1_%' escape 1 and agent not like '%1_app1_%' escape 1)\n",
    "group by Convert(varchar(10),dateIn,120)) as m\n",
    "on w.dayIn = m.dayIn\n",
    "where w.dayIn = (SELECT CONVERT(varchar(10) ,DATEADD(day, -1, getDate() ),120 ) )\n",
    ";\n",
    "''')"
   ]
  },
  {
   "cell_type": "code",
   "execution_count": 42,
   "metadata": {
    "hidden": true
   },
   "outputs": [
    {
     "data": {
      "text/html": [
       "<div>\n",
       "<style scoped>\n",
       "    .dataframe tbody tr th:only-of-type {\n",
       "        vertical-align: middle;\n",
       "    }\n",
       "\n",
       "    .dataframe tbody tr th {\n",
       "        vertical-align: top;\n",
       "    }\n",
       "\n",
       "    .dataframe thead th {\n",
       "        text-align: right;\n",
       "    }\n",
       "</style>\n",
       "<table border=\"1\" class=\"dataframe\">\n",
       "  <thead>\n",
       "    <tr style=\"text-align: right;\">\n",
       "      <th></th>\n",
       "      <th>dayIn</th>\n",
       "      <th>web</th>\n",
       "      <th>mobile</th>\n",
       "      <th>allTalent</th>\n",
       "    </tr>\n",
       "  </thead>\n",
       "  <tbody>\n",
       "    <tr>\n",
       "      <th>0</th>\n",
       "      <td>2022-12-14</td>\n",
       "      <td>5968</td>\n",
       "      <td>4483</td>\n",
       "      <td>10451</td>\n",
       "    </tr>\n",
       "  </tbody>\n",
       "</table>\n",
       "</div>"
      ],
      "text/plain": [
       "        dayIn   web  mobile  allTalent\n",
       "0  2022-12-14  5968    4483      10451"
      ]
     },
     "execution_count": 42,
     "metadata": {},
     "output_type": "execute_result"
    }
   ],
   "source": [
    "result = cursor.fetchall()\n",
    "\n",
    "webMobileDfCount= pd.DataFrame(result)\n",
    "webMobileDfCount"
   ]
  },
  {
   "cell_type": "markdown",
   "metadata": {
    "heading_collapsed": true,
    "hidden": true
   },
   "source": [
    "## 資料處理"
   ]
  },
  {
   "cell_type": "code",
   "execution_count": 43,
   "metadata": {
    "hidden": true
   },
   "outputs": [],
   "source": [
    "delivDataSummList = [int(iosDelivDf.talentCount.values), int(andDelivDf.talentCount.values), int((iosDelivDf.talentCount.values+andDelivDf.talentCount.values)),\n",
    "                          int(iosDelivDf.tmailCount.values), int(andDelivDf.tmailCount.values), int(iosDelivDf.tmailCount.values+int(andDelivDf.tmailCount.values)),\n",
    "                      round(int(iosDelivDf.tmailCount.values)/int(iosDelivDf.talentCount.values), 2), round(int(andDelivDf.tmailCount.values)/int(andDelivDf.talentCount.values), 2),\n",
    "                        ' ', ' ',' ',' ',' ',' ',' ',' ',\n",
    "                        int(webMobileDfTalent.web.values), int(webMobileDfTalent.mobile.values), \n",
    "                        int(webMobileDfTalent.allTalent.values), int(webMobileDfCount.web.values), int(webMobileDfCount.mobile.values), int(webMobileDfCount.allTalent.values), \n",
    "                      round(int( webMobileDfCount.web.values)/int(webMobileDfTalent.web.values), 2), round(int(webMobileDfCount.mobile.values)/int(webMobileDfTalent.mobile.values), 2)\n",
    "                      ]\n",
    "d1, d2, d3 = setCompare3Days(2022, 12, 15)\n",
    "#d1, d2, d3 = getCompare3DaysToday()\n",
    "d1Date = datetime.datetime.strptime(d1, '%Y/%m/%d')\n",
    "d1Detail = list(getDayDetail(d1Date.year, d1Date.month, d1Date.day))\n",
    "d1Detail.extend(delivDataSummList)"
   ]
  },
  {
   "cell_type": "code",
   "execution_count": 46,
   "metadata": {
    "hidden": true
   },
   "outputs": [
    {
     "data": {
      "text/plain": [
       "'done'"
      ]
     },
     "execution_count": 46,
     "metadata": {},
     "output_type": "execute_result"
    }
   ],
   "source": [
    "col = ['年度','月份','日期','W','ios','Android','合計','ios','Android','合計','ios','Android','ios','Android','合計','ios','Android','合計','百分比','備註','PC','Mobile','全網','PC','Mobile','合計','PC','Mobile']\n",
    "tMailDf = pd.DataFrame(d1Detail)\n",
    "tMailDf['col'] = col\n",
    "tMailDf = tMailDf.set_index(['col']).T\n",
    "\n",
    "#[主投人次]\n",
    "GoogleSheets().appendWorksheet(\n",
    "        spreadsheetId='1SCV8ITohUiTFfkH-KgDTdL7npoaBrEV6mRISTttA8_4',\n",
    "        range='主投人次',\n",
    "        df=tMailDf\n",
    ")\n",
    "\n",
    "#Tableau\n",
    "tabTmailDf = pd.DataFrame([d1, int(iosDelivDf.tmailCount.values), int(andDelivDf.tmailCount.values), int(iosDelivDf.tmailCount.values)+int(andDelivDf.tmailCount.values),\n",
    "                        int(webMobileDfCount.web.values), int(webMobileDfCount.mobile.values), int(webMobileDfCount.allTalent.values)]).T\n",
    "\n",
    "GoogleSheets().appendWorksheet(\n",
    "        spreadsheetId='1QZL4W8a2c42OG9_E80KFtaADGe8_FC5YHKO1xTsJYjI',\n",
    "        range='Sheet1',\n",
    "        df=tabTmailDf\n",
    ")"
   ]
  },
  {
   "cell_type": "markdown",
   "metadata": {
    "heading_collapsed": true
   },
   "source": [
    "# 更新履歷"
   ]
  },
  {
   "cell_type": "code",
   "execution_count": 81,
   "metadata": {
    "hidden": true
   },
   "outputs": [],
   "source": [
    "cursor.execute('''\n",
    "/*****************/\n",
    "\n",
    "IF OBJECT_ID('dbo.temp_Resume_CNT_ALL', 'U') IS NOT NULL \n",
    "Drop table temp_Resume_CNT_ALL ;\n",
    "\n",
    "Select X.dateIn,\n",
    "       Y.iOS_CNT,\n",
    "\t   Z.Android_CNT,\n",
    "\t   W.Mobile_CNT,\n",
    "\t   U.PC_CNT\n",
    "into   temp_Resume_CNT_ALL\n",
    "from (\n",
    "\tSelect distinct Convert(varchar(10), dateIn, 111) as dateIn\n",
    "\tfrom   tResumeEditLog\n",
    "\twhere Convert(varchar(10), dateIn, 111) = Convert(varchar(10), getdate()-1, 111)\n",
    "\tGroup by dateIn )           X \n",
    "left join (\n",
    "\tSelect P.dateIn,\n",
    "\t   sum(P.CNT) as iOS_CNT\n",
    "--into   #temp_Resume_iOS\n",
    "from (\n",
    "\tSelect B.talentNo,\n",
    "\t\t   B.Source_F,\n",
    "\t\t   B.dateIn,\n",
    "\t\t   count(*) CNT\n",
    "\tfrom (\n",
    "\t\tSelect A.*\n",
    "\t\tfrom (\n",
    "\t\t\tSelect talentNo, \n",
    "\t\t\t\t   resumeGuid,\n",
    "\t\t\t\t   Convert(varchar(10), dateIn, 111) as dateIn,\n",
    "\t\t\t\t   case when agent like '%app_ios%' then 'iOS'\n",
    "\t\t\t\t\t\twhen agent like '%app_android%' then 'Android'\n",
    "\t\t\t\t\t\twhen agent like '%mobile%' escape 1 and agent not like '%app%' escape 1 then 'Mobile'\n",
    "\t\t\t\t   Else 'PC' end as Source_F \n",
    "\t\t\tfrom   tResumeEditLog\n",
    "\t\t\twhere  len(resumeGuid) > 7 and Convert(varchar(10), dateIn, 111) = Convert(varchar(10), getdate()-1, 111)\n",
    "\t\t   )  A\n",
    "\t\tGroup by  A.talentNo, A.resumeGuid, A.dateIn, A.Source_F \n",
    "\t  )  B\n",
    "\tGroup by  B.talentNo, B.Source_F, B.dateIn\n",
    "  )  P  where  P.Source_F = 'iOS'\n",
    "group by  P.dateIn\n",
    ")      Y\n",
    "on   X.dateIn = Y.dateIn\n",
    "left join (\n",
    "\tSelect P.dateIn,\n",
    "\t   sum(P.CNT) as Android_CNT\n",
    "--into   #temp_Resume_Android\n",
    "from (\n",
    "\tSelect B.talentNo,\n",
    "\t\t   B.Source_F,\n",
    "\t\t   B.dateIn,\n",
    "\t\t   count(*) CNT\n",
    "\tfrom (\n",
    "\t\tSelect A.*\n",
    "\t\tfrom (\n",
    "\t\t\tSelect talentNo, \n",
    "\t\t\t\t   resumeGuid,\n",
    "\t\t\t\t   Convert(varchar(10), dateIn, 111) as dateIn,\n",
    "\t\t\t\t   case when agent like '%app_ios%' then 'iOS'\n",
    "\t\t\t\t\t\twhen agent like '%app_android%' then 'Android'\n",
    "\t\t\t\t\t\twhen agent like '%mobile%' escape 1 and agent not like '%app%' escape 1 then 'Mobile'\n",
    "\t\t\t\t   Else 'PC' end as Source_F \n",
    "\t\t\tfrom   tResumeEditLog\n",
    "\t\t\twhere  len(resumeGuid) > 7 and Convert(varchar(10), dateIn, 111) = Convert(varchar(10), getdate()-1, 111)\n",
    "\t\t   )  A\n",
    "\t\tGroup by  A.talentNo, A.resumeGuid, A.dateIn, A.Source_F \n",
    "\t  )  B\n",
    "\tGroup by  B.talentNo, B.Source_F, B.dateIn\n",
    "  )  P  where  P.Source_F = 'Android'\n",
    "group by  P.dateIn\n",
    ")  Z\n",
    "on   X.dateIn = Z.dateIn\n",
    "left join (\n",
    "\tSelect P.dateIn,\n",
    "\t   sum(P.CNT) as Mobile_CNT\n",
    "--into   #temp_Resume_Mobile\n",
    "from (\n",
    "\tSelect B.talentNo,\n",
    "\t\t   B.Source_F,\n",
    "\t\t   B.dateIn,\n",
    "\t\t   count(*) CNT\n",
    "\tfrom (\n",
    "\t\tSelect A.*\n",
    "\t\tfrom (\n",
    "\t\t\tSelect talentNo, \n",
    "\t\t\t\t   resumeGuid,\n",
    "\t\t\t\t   Convert(varchar(10), dateIn, 111) as dateIn,\n",
    "\t\t\t\t   case when agent like '%app_ios%' then 'iOS'\n",
    "\t\t\t\t\t\twhen agent like '%app_android%' then 'Android'\n",
    "\t\t\t\t\t\twhen agent like '%mobile%' escape 1 and agent not like '%app%' escape 1 then 'Mobile'\n",
    "\t\t\t\t   Else 'PC' end as Source_F \n",
    "\t\t\tfrom   tResumeEditLog\n",
    "\t\t\twhere  len(resumeGuid) > 7 and Convert(varchar(10), dateIn, 111) = Convert(varchar(10), getdate()-1, 111)\n",
    "\t\t   )  A\n",
    "\t\tGroup by  A.talentNo, A.resumeGuid, A.dateIn, A.Source_F \n",
    "\t  )  B\n",
    "\tGroup by  B.talentNo, B.Source_F, B.dateIn\n",
    "  )  P  where  P.Source_F = 'Mobile'\n",
    "group by  P.dateIn\n",
    ")   W\n",
    "on   X.dateIn = W.dateIn\n",
    "left join (\n",
    "\tSelect P.dateIn,\n",
    "\t   sum(P.CNT) as PC_CNT\n",
    "--into   #temp_Resume_PC\n",
    "from (\n",
    "\tSelect B.talentNo,\n",
    "\t\t   B.Source_F,\n",
    "\t\t   B.dateIn,\n",
    "\t\t   count(*) CNT\n",
    "\tfrom (\n",
    "\t\tSelect A.*\n",
    "\t\tfrom (\n",
    "\t\t\tSelect talentNo, \n",
    "\t\t\t\t   resumeGuid,\n",
    "\t\t\t\t   Convert(varchar(10), dateIn, 111) as dateIn,\n",
    "\t\t\t\t   case when agent like '%app_ios%' then 'iOS'\n",
    "\t\t\t\t\t\twhen agent like '%app_android%' then 'Android'\n",
    "\t\t\t\t\t\twhen agent like '%mobile%' escape 1 and agent not like '%app%' escape 1 then 'Mobile'\n",
    "\t\t\t\t   Else 'PC' end as Source_F \n",
    "\t\t\tfrom   tResumeEditLog\n",
    "\t\t\twhere  len(resumeGuid) > 7 and Convert(varchar(10), dateIn, 111) = Convert(varchar(10), getdate()-1, 111)\n",
    "\t\t   )  A\n",
    "\t\tGroup by  A.talentNo, A.resumeGuid, A.dateIn, A.Source_F \n",
    "\t  )  B\n",
    "\tGroup by  B.talentNo, B.Source_F, B.dateIn\n",
    "  )  P  where  P.Source_F = 'PC'\n",
    "group by  P.dateIn\n",
    ")       U\n",
    "on   X.dateIn = U.dateIn;\n",
    "\n",
    "\n",
    "Select * from temp_Resume_CNT_ALL;\n",
    "''')"
   ]
  },
  {
   "cell_type": "code",
   "execution_count": 82,
   "metadata": {
    "hidden": true,
    "scrolled": true
   },
   "outputs": [
    {
     "data": {
      "text/html": [
       "<div>\n",
       "<style scoped>\n",
       "    .dataframe tbody tr th:only-of-type {\n",
       "        vertical-align: middle;\n",
       "    }\n",
       "\n",
       "    .dataframe tbody tr th {\n",
       "        vertical-align: top;\n",
       "    }\n",
       "\n",
       "    .dataframe thead th {\n",
       "        text-align: right;\n",
       "    }\n",
       "</style>\n",
       "<table border=\"1\" class=\"dataframe\">\n",
       "  <thead>\n",
       "    <tr style=\"text-align: right;\">\n",
       "      <th></th>\n",
       "      <th>dateIn</th>\n",
       "      <th>iOS_CNT</th>\n",
       "      <th>Android_CNT</th>\n",
       "      <th>Mobile_CNT</th>\n",
       "      <th>PC_CNT</th>\n",
       "    </tr>\n",
       "  </thead>\n",
       "  <tbody>\n",
       "    <tr>\n",
       "      <th>0</th>\n",
       "      <td>2022/12/15</td>\n",
       "      <td>1662</td>\n",
       "      <td>743</td>\n",
       "      <td>958</td>\n",
       "      <td>1577</td>\n",
       "    </tr>\n",
       "  </tbody>\n",
       "</table>\n",
       "</div>"
      ],
      "text/plain": [
       "       dateIn  iOS_CNT  Android_CNT  Mobile_CNT  PC_CNT\n",
       "0  2022/12/15     1662          743         958    1577"
      ]
     },
     "execution_count": 82,
     "metadata": {},
     "output_type": "execute_result"
    }
   ],
   "source": [
    "result = cursor.fetchall()\n",
    "\n",
    "ResumeEditLog= pd.DataFrame(result)\n",
    "\n",
    "GoogleSheets().appendWorksheet(\n",
    "        spreadsheetId='1vbqT4oyr1GZpyf6tmM8jfoJcQ1U2sx_hABuJqHwyZuU',\n",
    "        range='Sheet1',\n",
    "        df=ResumeEditLog\n",
    ")"
   ]
  },
  {
   "cell_type": "markdown",
   "metadata": {},
   "source": [
    "# 新會員來源及主投分析"
   ]
  },
  {
   "cell_type": "markdown",
   "metadata": {},
   "source": [
    "## 會員來源細分_NEW"
   ]
  },
  {
   "cell_type": "code",
   "execution_count": 15,
   "metadata": {
    "ExecuteTime": {
     "end_time": "2022-12-21T01:29:26.618591Z",
     "start_time": "2022-12-21T01:29:26.268929Z"
    }
   },
   "outputs": [],
   "source": [
    "d1, d2, d3 = setCompare3Days(2022, 12, 21)\n",
    "# day1\n",
    "sql = \"select * from tMailAgentGroupMemberResultDetail where dateCount = '%s';\" % (d1)\n",
    "cursor.execute(sql)\n",
    "result = cursor.fetchall()\n",
    "\n",
    "memDataD1 = pd.DataFrame(result)\n",
    "\n",
    "# day2\n",
    "sql = \"select * from tMailAgentGroupMemberResultDetail where dateCount = '%s';\" % (d2)\n",
    "cursor.execute(sql)\n",
    "result = cursor.fetchall()\n",
    "\n",
    "memDataD2 = pd.DataFrame(result)\n",
    "\n",
    "# day3\n",
    "sql = \"select * from tMailAgentGroupMemberResultDetail where dateCount = '%s';\" % (d3)\n",
    "cursor.execute(sql)\n",
    "result = cursor.fetchall()\n",
    "\n",
    "memDataD3 = pd.DataFrame(result)\n",
    "\n",
    "memDf1 = memTmailCalcuFunc(memDataD1, d1)\n",
    "memDf2 = memTmailCalcuFunc(memDataD2, d2)\n",
    "memDf3 = memTmailCalcuFunc(memDataD3, d3)\n",
    "\n",
    "GoogleSheets().appendWorksheet(\n",
    "        spreadsheetId='1LRj10lg8O4yGgOncH2TnadTV4Gfe8_4Bfw6Nmz0YC38',\n",
    "        range='會員來源細分_New',\n",
    "        df=pd.concat([memDf1, memDf2, memDf3])\n",
    ")\n",
    "GoogleSheets().appendWorksheet(\n",
    "        spreadsheetId='1fbD9PTnr-LavM1unCw57h4mwEvhcjsZtgbYoAAtrYVw',\n",
    "        range='會員來源_細',\n",
    "        df=pd.concat([memDf1, memDf2, memDf3])[['Date', 'Source', 'total4']]\n",
    ")"
   ]
  },
  {
   "cell_type": "markdown",
   "metadata": {},
   "source": [
    "## 會員來源"
   ]
  },
  {
   "cell_type": "code",
   "execution_count": 20,
   "metadata": {},
   "outputs": [
    {
     "data": {
      "text/plain": [
       "'done'"
      ]
     },
     "execution_count": 20,
     "metadata": {},
     "output_type": "execute_result"
    }
   ],
   "source": [
    "# memSourDf1, memSourDf1Tab  = memSourFunc(memDataD1, d1)\n",
    "# memSourDf2, memSourDf2Tab = memSourFunc(memDataD2, d2)\n",
    "# memSourDf3, memSourDf3Tab = memSourFunc(memDataD3, d3)\n",
    "\n",
    "# GoogleSheets().appendWorksheet(\n",
    "#         spreadsheetId='1LRj10lg8O4yGgOncH2TnadTV4Gfe8_4Bfw6Nmz0YC38',\n",
    "#         range='會員來源',\n",
    "#         df = pd.concat([memSourDf1, memSourDf2, memSourDf3])\n",
    "# )\n",
    "\n",
    "# GoogleSheets().appendWorksheet(\n",
    "#         spreadsheetId='1EZYOOe0S05uGsvshnJBcMPjSJe-Is9WAZzHQIVH1BL8',\n",
    "#         range='Sheet1',\n",
    "#         df = memSourDf1Tab\n",
    "# )"
   ]
  },
  {
   "cell_type": "markdown",
   "metadata": {},
   "source": [
    "d = [31,28,31,30,31,30,31,31,30,31]\n",
    "\n",
    "for m in range(1, 11):\n",
    "    for i in range(1, d[m-1]+1):\n",
    "        d3 = '2022/'+str(m)+'/'+str(i)\n",
    "        # day3\n",
    "        sql = \"select * from tMailAgentGroupMemberResultDetail where dateCount = '%s';\" % (d3)\n",
    "        cursor.execute(sql)\n",
    "        result = cursor.fetchall()\n",
    "        memDataD3 = pd.DataFrame(result)\n",
    "\n",
    "        memSourDf3, memSourDf3Tab = memSourFunc(memDataD3, d3)\n",
    "\n",
    "        GoogleSheets().appendWorksheet(\n",
    "                spreadsheetId='1EZYOOe0S05uGsvshnJBcMPjSJe-Is9WAZzHQIVH1BL8',\n",
    "                range='工作表3',\n",
    "                df = memSourDf3Tab)"
   ]
  },
  {
   "cell_type": "markdown",
   "metadata": {},
   "source": [
    "for i in range(1, 15):\n",
    "        d3 = '2022/12/'+str(i)\n",
    "        # day3\n",
    "        sql = \"select * from tMailAgentGroupMemberResultDetail where dateCount = '%s';\" % (d3)\n",
    "        cursor.execute(sql)\n",
    "        result = cursor.fetchall()\n",
    "        memDataD3 = pd.DataFrame(result)\n",
    "        memSourDf3, memSourDf3Tab = memSourFunc(memDataD3, d3)\n",
    "\n",
    "        GoogleSheets().appendWorksheet(\n",
    "                spreadsheetId='1EZYOOe0S05uGsvshnJBcMPjSJe-Is9WAZzHQIVH1BL8',\n",
    "                range='工作表3',\n",
    "                df = memSourDf3Tab)"
   ]
  },
  {
   "cell_type": "markdown",
   "metadata": {},
   "source": [
    "d = [31,30,31]\n",
    "\n",
    "for m in range(8, 11):\n",
    "    for i in range(1, d[m-8]+1):\n",
    "        d3 = '2022/'+str(m)+'/'+str(i)\n",
    "        # day3\n",
    "        sql = \"select * from tMailAgentGroupMemberResultDetail where dateCount = '%s';\" % (d3)\n",
    "        cursor.execute(sql)\n",
    "        result = cursor.fetchall()\n",
    "        memDataD3 = pd.DataFrame(result)\n",
    "\n",
    "        memSourDf3, memSourDf3Tab = memSourFunc(memDataD3, d3)\n",
    "\n",
    "        GoogleSheets().appendWorksheet(\n",
    "                spreadsheetId='1EZYOOe0S05uGsvshnJBcMPjSJe-Is9WAZzHQIVH1BL8',\n",
    "                range='工作表3',\n",
    "                df = memSourDf3Tab)"
   ]
  },
  {
   "cell_type": "markdown",
   "metadata": {},
   "source": [
    "## 主投來源細分_NEW"
   ]
  },
  {
   "cell_type": "code",
   "execution_count": 14,
   "metadata": {
    "ExecuteTime": {
     "end_time": "2022-12-19T06:46:24.285922Z",
     "start_time": "2022-12-19T06:46:23.906806Z"
    }
   },
   "outputs": [
    {
     "data": {
      "text/plain": [
       "'done'"
      ]
     },
     "execution_count": 14,
     "metadata": {},
     "output_type": "execute_result"
    }
   ],
   "source": [
    "d1, d2, d3 = setCompare3Days(2022, 12, 21)\n",
    "# day1\n",
    "sql = \"select * from tMailAgentGroupResultDetail where dateCount = '%s';\" % (d1)\n",
    "cursor.execute(sql)\n",
    "result = cursor.fetchall()\n",
    "mailDataD1 = pd.DataFrame(result)\n",
    "\n",
    "# day2\n",
    "sql = \"select * from tMailAgentGroupResultDetail where dateCount = '%s';\" % (d2)\n",
    "cursor.execute(sql)\n",
    "result = cursor.fetchall()\n",
    "mailDataD2 = pd.DataFrame(result)\n",
    "\n",
    "# day3\n",
    "sql = \"select * from tMailAgentGroupResultDetail where dateCount = '%s';\" % (d3)\n",
    "cursor.execute(sql)\n",
    "result = cursor.fetchall()\n",
    "mailDataD3 = pd.DataFrame(result)\n",
    "\n",
    "mailDf1 = memTmailCalcuFunc(mailDataD1, d1)\n",
    "mailDf2 = memTmailCalcuFunc(mailDataD2, d2)\n",
    "mailDf3 = memTmailCalcuFunc(mailDataD3, d3)\n",
    "\n",
    "GoogleSheets().appendWorksheet(\n",
    "        spreadsheetId='1LRj10lg8O4yGgOncH2TnadTV4Gfe8_4Bfw6Nmz0YC38',\n",
    "        range='主投來源細分_New',\n",
    "        df=pd.concat([mailDf1, mailDf2, mailDf3])\n",
    ")\n",
    "GoogleSheets().appendWorksheet(\n",
    "        spreadsheetId='1fbD9PTnr-LavM1unCw57h4mwEvhcjsZtgbYoAAtrYVw',\n",
    "        range='主投來源_細',\n",
    "        df=pd.concat([mailDf1, mailDf2, mailDf3])[['Date', 'Source', 'total4']]\n",
    ")"
   ]
  },
  {
   "cell_type": "markdown",
   "metadata": {},
   "source": [
    "# SEO每日數據"
   ]
  },
  {
   "cell_type": "markdown",
   "metadata": {
    "ExecuteTime": {
     "end_time": "2022-12-20T08:01:03.849284Z",
     "start_time": "2022-12-20T08:01:03.778294Z"
    }
   },
   "source": [
    "d1 = '2022/1/1'\n",
    "d = [31,28,31,30,31,30,31,31,30,31]\n",
    "for i in range(1, 11):\n",
    "    for j in range(1, d[i-1]):\n",
    "        d1 = '2022/'+str(i)+'/'+str(j)\n",
    "        date1 = datetime.datetime.strptime(d1, '%Y/%m/%d')\n",
    "        delta = datetime.timedelta(days = 7)\n",
    "        dateLastWeek = datetime.datetime.strftime(date1-relativedelta(days=7), '%Y/%m/%d')\n",
    "\n",
    "        if date1.month==1:\n",
    "            dateMon = datetime.date(date1.year-1, 12 , 1)+relativedelta(weeks = get_week_of_month(date1.year, date1.month, date1.day))\n",
    "            dateLastMon = datetime.datetime.strftime(dateMon-relativedelta(days=dateMon.weekday())+relativedelta(days=date1.weekday()), '%Y/%m/%d')\n",
    "        else:\n",
    "            dateMon = datetime.date(date1.year, date1.month-1 , 1)+relativedelta(weeks = get_week_of_month(date1.year, date1.month, date1.day))\n",
    "            dateLastMon = datetime.datetime.strftime(dateMon-relativedelta(days=dateMon.weekday())+relativedelta(days=date1.weekday()), '%Y/%m/%d')\n",
    "   \n",
    "        print(f\"計算日期{d1}、上周{dateLastWeek}、上個月{dateLastMon}\\n\")"
   ]
  },
  {
   "cell_type": "code",
   "execution_count": 18,
   "metadata": {
    "ExecuteTime": {
     "end_time": "2022-12-19T09:43:33.737758Z",
     "start_time": "2022-12-19T09:43:33.698777Z"
    }
   },
   "outputs": [],
   "source": [
    "d1 = '2022/12/20'\n",
    "date1 = datetime.datetime.strptime(d1, '%Y/%m/%d')\n",
    "\n",
    "#上周同期\n",
    "delta = datetime.timedelta(days = 7)\n",
    "dateLastWeek = datetime.datetime.strftime(date1-relativedelta(days=7), '%Y/%m/%d')\n",
    "sql = \"select * from tMailAgentGroupResultDetail where dateCount = '%s';\" % (dateLastWeek)\n",
    "cursor.execute(sql)\n",
    "result = cursor.fetchall()\n",
    "mailDataD4 = pd.DataFrame(result)\n",
    "\n",
    "#上個月同期\n",
    "if date1.month==1:\n",
    "            dateMon = datetime.date(date1.year-1, 12 , 1)+relativedelta(weeks = get_week_of_month(date1.year, date1.month, date1.day))\n",
    "            dateLastMon = datetime.datetime.strftime(dateMon-relativedelta(days=dateMon.weekday())+relativedelta(days=date1.weekday()), '%Y/%m/%d')\n",
    "else:\n",
    "    dateMon = datetime.date(date1.year, date1.month-1 , 1)+relativedelta(weeks = get_week_of_month(date1.year, date1.month, date1.day))\n",
    "    dateLastMon = datetime.datetime.strftime(dateMon-relativedelta(days=dateMon.weekday())+relativedelta(days=date1.weekday()), '%Y/%m/%d')\n",
    "            \n",
    "sql = \"select * from tMailAgentGroupResultDetail where dateCount = '%s';\" % (dateLastMon)\n",
    "cursor.execute(sql)\n",
    "result = cursor.fetchall()\n",
    "mailDataD5 = pd.DataFrame(result)\n",
    "\n",
    "\n",
    "mailDf4 = memTmailCalcuFunc(mailDataD4, dateLastWeek)\n",
    "mailDf5 = memTmailCalcuFunc(mailDataD5, dateLastMon)"
   ]
  },
  {
   "cell_type": "code",
   "execution_count": 21,
   "metadata": {
    "ExecuteTime": {
     "end_time": "2022-12-19T09:57:11.717802Z",
     "start_time": "2022-12-19T09:57:11.701790Z"
    }
   },
   "outputs": [
    {
     "data": {
      "text/plain": [
       "'done'"
      ]
     },
     "execution_count": 21,
     "metadata": {},
     "output_type": "execute_result"
    }
   ],
   "source": [
    "seoDf = pd.DataFrame()\n",
    "seoDf['SEO'] = [d1,dateLastWeek, dateLastMon, d2]\n",
    "\n",
    "seoYes = mailDf1.total4[0]\n",
    "seoLastWeek = mailDf4.total4[0]\n",
    "seoLastMonth = mailDf5.total4[0]\n",
    "seoLastY = mailDf2.total4[0]\n",
    "\n",
    "seoDf['主投數'] = [int(seoYes), int(seoLastWeek), int(seoLastMonth), int(seoLastY)]\n",
    "\n",
    "seoDf['變動率'] = ['X', \n",
    "                '{:.2f}'.format((seoYes-seoLastWeek)/seoLastWeek*100)+'%',\n",
    "                '{:.2f}'.format((seoYes-seoLastMonth)/seoLastMonth*100)+'%',\n",
    "                '{:.2f}'.format((seoYes-seoLastY)/seoLastY*100)+'%']\n",
    "\n",
    "seoDf['差異'] = ['X', \n",
    "               int(seoYes-seoLastWeek),\n",
    "                int(seoYes-seoLastMonth),\n",
    "                int(seoYes-seoLastY)]\n",
    "\n",
    "\n",
    "GoogleSheets().setWorksheet(\n",
    "        spreadsheetId='1LRj10lg8O4yGgOncH2TnadTV4Gfe8_4Bfw6Nmz0YC38',\n",
    "        range='SEO每日數據',\n",
    "        df=seoDf\n",
    ")"
   ]
  },
  {
   "cell_type": "markdown",
   "metadata": {},
   "source": [
    "# 確認頁面"
   ]
  },
  {
   "cell_type": "code",
   "execution_count": 189,
   "metadata": {
    "ExecuteTime": {
     "end_time": "2022-12-20T02:31:12.923593Z",
     "start_time": "2022-12-20T02:31:12.911612Z"
    }
   },
   "outputs": [],
   "source": [
    "def checkdDataUpdate(spreadsheetId, range, checkDay):\n",
    "        checkList = GoogleSheets().getWorksheet(\n",
    "                spreadsheetId = spreadsheetId,\n",
    "                range=range)\n",
    "        cl = []\n",
    "        for i in checkList:\n",
    "                cl.extend(i)\n",
    "        if cl.count(d1)>0: \n",
    "                return True\n",
    "        else:\n",
    "                return False"
   ]
  },
  {
   "cell_type": "code",
   "execution_count": 62,
   "metadata": {},
   "outputs": [],
   "source": [
    "d1, d2, d3 = setCompare3Days(2022, 12, 16)"
   ]
  },
  {
   "cell_type": "code",
   "execution_count": 63,
   "metadata": {},
   "outputs": [],
   "source": [
    "#[新會員來源及主投分析]\n",
    "memCheckBool = checkdDataUpdate('1LRj10lg8O4yGgOncH2TnadTV4Gfe8_4Bfw6Nmz0YC38', '會員來源細分_New', d1)\n",
    "\n",
    "mailCheckBool = checkdDataUpdate('1LRj10lg8O4yGgOncH2TnadTV4Gfe8_4Bfw6Nmz0YC38', '主投來源細分_New', d1)\n",
    "\n",
    "#[GA分析]\n",
    "gaCheckBool = checkdDataUpdate('1tOUO7ZCOJSXLaBb_BYRlYfzceOVYpxyRlKDEKyoEHq0', 'GA', d1)\n",
    "\n",
    "gaSEOCheckBool = checkdDataUpdate('1tOUO7ZCOJSXLaBb_BYRlYfzceOVYpxyRlKDEKyoEHq0', 'GA_SEO', d1)\n",
    "\n",
    "#[Resume_Edit]\n",
    "resEditCheckBool = checkdDataUpdate('1vbqT4oyr1GZpyf6tmM8jfoJcQ1U2sx_hABuJqHwyZuU', 'Sheet1', d1)\n",
    "\n",
    "#[主投人次]\n",
    "mailTraCheckBool = checkdDataUpdate('1jbA88J1jYdvbmiF4ZtVTGBp0lxVbbE4ZmVRZx5RQYDY', '主投統計', d1)\n"
   ]
  },
  {
   "cell_type": "code",
   "execution_count": 65,
   "metadata": {},
   "outputs": [],
   "source": [
    "boolList = [memCheckBool, mailCheckBool, gaCheckBool, gaSEOCheckBool, resEditCheckBool, mailTraCheckBool]\n",
    "infoList = ['新會員來源及主投分析-會員來源細分_New', '新會員來源及主投分析-主投來源細分_New', 'GA分析-GA', 'GA分析-GA_SEO', 'Resume_Edit', '主投人次']\n",
    "txtInfo = ''\n",
    "for i in range(len(boolList)):\n",
    "    if boolList[i] == False:\n",
    "        txtInfo += infoList[i]+'\\n'\n",
    "from tkinter import*\n",
    "myWindow = Tk()\n",
    "myWindow.title('自動化執行偵測視窗')\n",
    "if len(txtInfo)>0:\n",
    "    txtInfo = txtInfo[:-1]\n",
    "    Label(myWindow, text='內部報表新增有誤( ･᷄ὢ･᷅ )\\n', font=('Arial 15 bold'), width = 30, height=3).pack()\n",
    "    Label(myWindow, text=txtInfo, font=('Arial 12'), width = 40, height=8).pack()\n",
    "    Label(myWindow, text='\\n請確認以上Google Sheet!', font=('Arial 15 bold'), width = 30, height=3).pack()\n",
    "    myWindow.mainloop()\n",
    "else:\n",
    "    Label(myWindow, text='全部報表都更新好了!', font=('Arial 20 bold'), width = 30, height=3).pack()\n",
    "    Label(myWindow, text='Perfect ( ´ ▽ ` )ﾉ', font=('Arial 20 bold'), width = 30, height=3).pack()\n",
    "    myWindow.mainloop()"
   ]
  },
  {
   "cell_type": "code",
   "execution_count": null,
   "metadata": {},
   "outputs": [],
   "source": []
  }
 ],
 "metadata": {
  "kernelspec": {
   "display_name": "Python 3",
   "language": "python",
   "name": "python3"
  },
  "language_info": {
   "codemirror_mode": {
    "name": "ipython",
    "version": 3
   },
   "file_extension": ".py",
   "mimetype": "text/x-python",
   "name": "python",
   "nbconvert_exporter": "python",
   "pygments_lexer": "ipython3",
   "version": "3.8.8"
  },
  "toc": {
   "base_numbering": 1,
   "nav_menu": {},
   "number_sections": true,
   "sideBar": true,
   "skip_h1_title": false,
   "title_cell": "Table of Contents",
   "title_sidebar": "Contents",
   "toc_cell": false,
   "toc_position": {
    "height": "calc(100% - 180px)",
    "left": "10px",
    "top": "150px",
    "width": "299.531px"
   },
   "toc_section_display": true,
   "toc_window_display": true
  },
  "varInspector": {
   "cols": {
    "lenName": 16,
    "lenType": 16,
    "lenVar": 40
   },
   "kernels_config": {
    "python": {
     "delete_cmd_postfix": "",
     "delete_cmd_prefix": "del ",
     "library": "var_list.py",
     "varRefreshCmd": "print(var_dic_list())"
    },
    "r": {
     "delete_cmd_postfix": ") ",
     "delete_cmd_prefix": "rm(",
     "library": "var_list.r",
     "varRefreshCmd": "cat(var_dic_list()) "
    }
   },
   "types_to_exclude": [
    "module",
    "function",
    "builtin_function_or_method",
    "instance",
    "_Feature"
   ],
   "window_display": false
  },
  "vscode": {
   "interpreter": {
    "hash": "ad2bdc8ecc057115af97d19610ffacc2b4e99fae6737bb82f5d7fb13d2f2c186"
   }
  }
 },
 "nbformat": 4,
 "nbformat_minor": 4
}

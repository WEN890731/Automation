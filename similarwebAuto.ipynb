{
 "cells": [
  {
   "cell_type": "code",
   "execution_count": null,
   "id": "18017e73",
   "metadata": {},
   "outputs": [],
   "source": [
    "#ref.https://github.com/danwagnerco/similarweb"
   ]
  },
  {
   "cell_type": "markdown",
   "id": "0885ed1c",
   "metadata": {},
   "source": [
    "# Import package"
   ]
  },
  {
   "cell_type": "code",
   "execution_count": 39,
   "id": "8a12985f",
   "metadata": {
    "ExecuteTime": {
     "end_time": "2022-12-28T00:58:53.221846Z",
     "start_time": "2022-12-28T00:58:52.223710Z"
    }
   },
   "outputs": [],
   "source": [
    "import requests\n",
    "import pandas as pd\n",
    "from main import GoogleAPIClient\n",
    "import pandas as pd\n",
    "import datetime\n",
    "from datetime import date\n",
    "import numpy as np\n",
    "import pymssql \n",
    "import pandas as pd\n",
    "from dateutil.relativedelta import relativedelta"
   ]
  },
  {
   "cell_type": "markdown",
   "id": "7d121e44",
   "metadata": {},
   "source": [
    "#  Function"
   ]
  },
  {
   "cell_type": "code",
   "execution_count": 40,
   "id": "72845c5f",
   "metadata": {
    "ExecuteTime": {
     "end_time": "2022-12-28T00:58:53.268566Z",
     "start_time": "2022-12-28T00:58:53.255426Z"
    }
   },
   "outputs": [],
   "source": [
    "class GoogleSheets(GoogleAPIClient):\n",
    "    def __init__(self) -> None:\n",
    "        # 呼叫 GoogleAPIClient.__init__()，並提供 serviceName, version, scope\n",
    "        super().__init__(\n",
    "            'sheets',\n",
    "            'v4',\n",
    "            ['https://www.googleapis.com/auth/spreadsheets'],\n",
    "        )\n",
    "\n",
    "    def getWorksheet2Df(self, spreadsheetId: str, range: str):#獲取指定google sheet的檔案，輸出成dataframe\n",
    "        request = self.googleAPIService.spreadsheets().values().get(\n",
    "            spreadsheetId=spreadsheetId,\n",
    "            range=range,\n",
    "        )\n",
    "        result = request.execute()['values']\n",
    "        header = result[0]\n",
    "        del result[0]\n",
    "        return pd.DataFrame(result, columns=header)\n",
    "    \n",
    "    def getWorksheet(self, spreadsheetId: str, range: str):#獲取指定google sheet的檔案，輸出成list\n",
    "        request = self.googleAPIService.spreadsheets().values().get(\n",
    "            spreadsheetId=spreadsheetId,\n",
    "            range=range,\n",
    "        )\n",
    "        response = request.execute()['values']\n",
    "        return response\n",
    "\n",
    "    def clearWorksheet(self, spreadsheetId: str, range: str):#清除指定google sheet的資料\n",
    "        self.googleAPIService.spreadsheets().values().clear(\n",
    "            spreadsheetId=spreadsheetId,\n",
    "            range=range,\n",
    "        ).execute()\n",
    "        return 'done'\n",
    "    \n",
    "    def setWorksheet(self, spreadsheetId: str, range: str, df: pd.DataFrame):#清除指定google sheet的資料後新增資料(dataframe)\n",
    "        self.clearWorksheet(spreadsheetId, range)\n",
    "        #使用 update 的語法把我們新的數據加入至 Google Sheets\n",
    "        self.googleAPIService.spreadsheets().values().update(\n",
    "            spreadsheetId=spreadsheetId,\n",
    "            range=range,\n",
    "            valueInputOption='USER_ENTERED',\n",
    "            body={\n",
    "                'majorDimension': 'ROWS',\n",
    "                'values': df.T.reset_index().T.values.tolist()\n",
    "            },\n",
    "        ).execute()\n",
    "        return 'done'\n",
    "\n",
    "    def appendWorksheet(self, spreadsheetId: str, range: str, df: pd.DataFrame):#對指定google sheet加入資料(dataframe)\n",
    "        self.googleAPIService.spreadsheets().values().append(\n",
    "            spreadsheetId=spreadsheetId,\n",
    "            range=range,\n",
    "            valueInputOption='USER_ENTERED',\n",
    "            body={\n",
    "                'majorDimension': 'ROWS',\n",
    "                'values': df.values.tolist()\n",
    "            },\n",
    "        ).execute()\n",
    "        return 'done'\n",
    "    "
   ]
  },
  {
   "cell_type": "code",
   "execution_count": 224,
   "id": "d98a2bff",
   "metadata": {
    "ExecuteTime": {
     "end_time": "2022-12-28T03:55:46.847790Z",
     "start_time": "2022-12-28T03:55:46.828800Z"
    }
   },
   "outputs": [],
   "source": [
    "def howManyDays(year):#輸入年分，回傳當年度天數\n",
    "    if year % 4 == 0 and year % 100 != 0:\n",
    "        return 364\n",
    "    elif year % 4 == 0 and year % 100 == 0 and year % 400==0:\n",
    "        return 364\n",
    "    else:\n",
    "        return 365\n",
    "    \n",
    "def getCompare7DaysToday():#獲得昨天、去年同期和前年同期的日期字串\n",
    "    yesterday = ((datetime.datetime.now())+datetime.timedelta(days=-1)).strftime('%Y-%m-%d')\n",
    "    \n",
    "    day2 = ((datetime.datetime.now())+datetime.timedelta(days=-2)).strftime('%Y-%m-%d')\n",
    "    \n",
    "    day3 = ((datetime.datetime.now())+datetime.timedelta(days=-3)).strftime('%Y-%m-%d')\n",
    "    \n",
    "    day4 = ((datetime.datetime.now())+datetime.timedelta(days=-4)).strftime('%Y-%m-%d')\n",
    "    \n",
    "    day5 = ((datetime.datetime.now())+datetime.timedelta(days=-5)).strftime('%Y-%m-%d')\n",
    "    \n",
    "    day6 = ((datetime.datetime.now())+datetime.timedelta(days=-6)).strftime('%Y-%m-%d')\n",
    "    \n",
    "    day7 = ((datetime.datetime.now())+datetime.timedelta(days=-7)).strftime('%Y-%m-%d')\n",
    "    \n",
    "    \n",
    "    return yesterday, day2, day3, day4, day5, day6, day7\n",
    "\n",
    "def setCompare7Days(yyyy, mm, dd):#輸入指定日期，獲得當天、去年同期和前年同期的日期字串\n",
    "    day = datetime.date(yyyy, mm, dd)\n",
    "    day1 = ((day)+datetime.timedelta(days=-1)).strftime('%Y-%m-%d')\n",
    "    day2 = ((day)+datetime.timedelta(days=-2)).strftime('%Y-%m-%d')\n",
    "    day3 = ((day)+datetime.timedelta(days=-3)).strftime('%Y-%m-%d')\n",
    "    day4 = ((day)+datetime.timedelta(days=-4)).strftime('%Y-%m-%d')\n",
    "    day5 = ((day)+datetime.timedelta(days=-5)).strftime('%Y-%m-%d')\n",
    "    day6 = ((day)+datetime.timedelta(days=-6)).strftime('%Y-%m-%d')\n",
    "    day7 = ((day)+datetime.timedelta(days=-7)).strftime('%Y-%m-%d')\n",
    "    return day1, day2, day3, day4, day5, day6, day7"
   ]
  },
  {
   "cell_type": "code",
   "execution_count": 209,
   "id": "c29402ba",
   "metadata": {
    "ExecuteTime": {
     "end_time": "2022-12-28T03:45:35.271940Z",
     "start_time": "2022-12-28T03:45:35.254951Z"
    }
   },
   "outputs": [],
   "source": [
    "def getDataDf(web, layer, dimen, startM, endM):\n",
    "    url = \"https://api.similarweb.com/v1/website/%s.com.tw/%s/%s?api_key=7e552f683942499fbd752ad182af1dab&start_date=%s&end_date=%s&country=tw&granularity=daily&main_domain_only=false&format=json&show_verified=false&mtd=true\"%(web, layer, dimen, startM, endM)\n",
    "    headers = {\"accept\": \"text/plain\"}\n",
    "    response = requests.get(url, headers=headers)\n",
    "    dimenFilter = dimen.replace('-', '_')\n",
    "    falDf = pd.DataFrame(eval(response.text[response.text.find(dimenFilter)+len(dimenFilter)+3:-2]))\n",
    "    return falDf\n",
    "\n",
    "def getRankDf(web):\n",
    "    url = \"https://api.similarweb.com/v1/website/%s.com.tw/country-rank/country-rank?api_key=7e552f683942499fbd752ad182af1dab&country=tw&granularity=daily&main_domain_only=false&format=json&show_verified=false&mtd=true\"%(web)\n",
    "    headers = {\"accept\": \"text/plain\"}\n",
    "    response = requests.get(url, headers=headers)\n",
    "    dimenFilter = 'country-rank'.replace('-', '_')\n",
    "    falDf = pd.DataFrame(eval(response.text[response.text.find(dimenFilter)+len(dimenFilter)+3:-2]), index=[0])\n",
    "    return falDf"
   ]
  },
  {
   "cell_type": "markdown",
   "id": "64fc7293",
   "metadata": {},
   "source": [
    "# 網頁統計數據撈取"
   ]
  },
  {
   "cell_type": "code",
   "execution_count": 264,
   "id": "8ee22350",
   "metadata": {
    "ExecuteTime": {
     "end_time": "2022-12-28T04:29:54.301504Z",
     "start_time": "2022-12-28T04:29:53.295451Z"
    },
    "scrolled": true
   },
   "outputs": [
    {
     "data": {
      "text/plain": [
       "b'{\"meta\":{\"request\":{\"granularity\":\"Daily\",\"main_domain_only\":false,\"mtd\":true,\"show_verified\":false,\"state\":null,\"format\":\"json\",\"domain\":\"1111.com.tw\",\"start_date\":\"2022-12-01\",\"end_date\":\"2022-12-25\",\"country\":\"tw\"},\"status\":\"Success\",\"last_updated\":\"2022-11-30\"},\"visits\":[{\"date\":\"2022-12-01\",\"visits\":236471.03670316984},{\"date\":\"2022-12-02\",\"visits\":174340.49714494342},{\"date\":\"2022-12-03\",\"visits\":140081.11783446523},{\"date\":\"2022-12-04\",\"visits\":180838.700126604},{\"date\":\"2022-12-05\",\"visits\":210621.43348357102},{\"date\":\"2022-12-06\",\"visits\":167072.62267575145},{\"date\":\"2022-12-07\",\"visits\":194148.37594915795},{\"date\":\"2022-12-08\",\"visits\":203287.30171804337},{\"date\":\"2022-12-09\",\"visits\":170705.3918154629},{\"date\":\"2022-12-10\",\"visits\":129314.02298120376},{\"date\":\"2022-12-11\",\"visits\":180985.78034182233},{\"date\":\"2022-12-12\",\"visits\":174868.68751437735},{\"date\":\"2022-12-13\",\"visits\":159387.68616303572},{\"date\":\"2022-12-14\",\"visits\":191044.17996957904},{\"date\":\"2022-12-15\",\"visits\":184796.8081529689},{\"date\":\"2022-12-16\",\"visits\":144091.7696771744},{\"date\":\"2022-12-17\",\"visits\":130493.27998211395},{\"date\":\"2022-12-18\",\"visits\":143923.44777203113},{\"date\":\"2022-12-19\",\"visits\":244866.66482068482},{\"date\":\"2022-12-20\",\"visits\":188279.35243051063},{\"date\":\"2022-12-21\",\"visits\":183096.2635151201},{\"date\":\"2022-12-22\",\"visits\":170773.70277185657},{\"date\":\"2022-12-23\",\"visits\":161364.80631581863},{\"date\":\"2022-12-24\",\"visits\":132428.9047201503},{\"date\":\"2022-12-25\",\"visits\":154567.54651144112}]}'"
      ]
     },
     "execution_count": 264,
     "metadata": {},
     "output_type": "execute_result"
    }
   ],
   "source": [
    "url = \"https://api.similarweb.com/v1/website/%s.com.tw/%s/%s?api_key=7e552f683942499fbd752ad182af1dab&start_date=%s&end_date=%s&country=tw&granularity=daily&main_domain_only=false&format=json&show_verified=false&mtd=true\"%('1111', 'total-traffic-and-engagement', 'visits', startMonth, endMonth)\n",
    "headers = {\"accept\": \"text/plain\"}\n",
    "response = requests.get(url, headers=headers)\n",
    "response.content"
   ]
  },
  {
   "cell_type": "code",
   "execution_count": 233,
   "id": "e660d332",
   "metadata": {
    "ExecuteTime": {
     "end_time": "2022-12-28T03:57:37.840409Z",
     "start_time": "2022-12-28T03:57:37.835430Z"
    }
   },
   "outputs": [],
   "source": [
    "dateList = [i for i in setCompare7Days(2022, 12, 26)]\n",
    "\n",
    "#time filter\n",
    "endMonth = datetime.datetime.strftime(datetime.datetime.strptime(dateList[0], '%Y-%m-%d'),  '%Y-%m')\n",
    "startMonth = datetime.datetime.strftime(datetime.datetime.strptime(dateList[-1], '%Y-%m-%d'),  '%Y-%m')"
   ]
  },
  {
   "cell_type": "markdown",
   "id": "90e65e2f",
   "metadata": {},
   "source": [
    "## 1111"
   ]
  },
  {
   "cell_type": "code",
   "execution_count": 255,
   "id": "830d525a",
   "metadata": {
    "ExecuteTime": {
     "end_time": "2022-12-28T04:16:50.555231Z",
     "start_time": "2022-12-28T04:16:46.668362Z"
    }
   },
   "outputs": [],
   "source": [
    "# #web data\n",
    "dataDict = dict()\n",
    "\n",
    "dataDict['visitsDf'] = getDataDf('1111', 'total-traffic-and-engagement', 'visits', startMonth, endMonth)\n",
    "dataDict['avdDf'] = getDataDf('1111', 'total-traffic-and-engagement', 'average-visit-duration', startMonth, endMonth)\n",
    "dataDict['ppvDf'] = getDataDf('1111', 'total-traffic-and-engagement', 'pages-per-visit', startMonth, endMonth)\n",
    "dataDict['brDf'] = getDataDf('1111', 'total-traffic-and-engagement', 'bounce-rate', startMonth, endMonth)"
   ]
  },
  {
   "cell_type": "code",
   "execution_count": 262,
   "id": "76b1e166",
   "metadata": {
    "ExecuteTime": {
     "end_time": "2022-12-28T04:19:35.971141Z",
     "start_time": "2022-12-28T04:19:35.947149Z"
    }
   },
   "outputs": [],
   "source": [
    "# add time filter\n",
    "dataWMaskDict = dict()\n",
    "\n",
    "for key in dataDict.keys():\n",
    "    dataWMaskDict[key] = dataDict[key][dataDict[key]['date'].isin(dateList)]\n",
    "    pd.to_datetime(dataWMaskDict[key]['date']).dt.year\n",
    "    dataWMaskDict[key].insert(0, 'year', year)\n",
    "    dataWMaskDict[key].insert(2, 'brand', ['1111']*7)"
   ]
  },
  {
   "cell_type": "code",
   "execution_count": 263,
   "id": "9810b52a",
   "metadata": {
    "ExecuteTime": {
     "end_time": "2022-12-28T04:19:36.409997Z",
     "start_time": "2022-12-28T04:19:36.393003Z"
    }
   },
   "outputs": [
    {
     "data": {
      "text/html": [
       "<div>\n",
       "<style scoped>\n",
       "    .dataframe tbody tr th:only-of-type {\n",
       "        vertical-align: middle;\n",
       "    }\n",
       "\n",
       "    .dataframe tbody tr th {\n",
       "        vertical-align: top;\n",
       "    }\n",
       "\n",
       "    .dataframe thead th {\n",
       "        text-align: right;\n",
       "    }\n",
       "</style>\n",
       "<table border=\"1\" class=\"dataframe\">\n",
       "  <thead>\n",
       "    <tr style=\"text-align: right;\">\n",
       "      <th></th>\n",
       "      <th>year</th>\n",
       "      <th>date</th>\n",
       "      <th>brand</th>\n",
       "      <th>bounce_rate</th>\n",
       "    </tr>\n",
       "  </thead>\n",
       "  <tbody>\n",
       "    <tr>\n",
       "      <th>18</th>\n",
       "      <td>2022</td>\n",
       "      <td>2022-12-19</td>\n",
       "      <td>1111</td>\n",
       "      <td>0.420503</td>\n",
       "    </tr>\n",
       "    <tr>\n",
       "      <th>19</th>\n",
       "      <td>2022</td>\n",
       "      <td>2022-12-20</td>\n",
       "      <td>1111</td>\n",
       "      <td>0.465251</td>\n",
       "    </tr>\n",
       "    <tr>\n",
       "      <th>20</th>\n",
       "      <td>2022</td>\n",
       "      <td>2022-12-21</td>\n",
       "      <td>1111</td>\n",
       "      <td>0.420518</td>\n",
       "    </tr>\n",
       "    <tr>\n",
       "      <th>21</th>\n",
       "      <td>2022</td>\n",
       "      <td>2022-12-22</td>\n",
       "      <td>1111</td>\n",
       "      <td>0.466917</td>\n",
       "    </tr>\n",
       "    <tr>\n",
       "      <th>22</th>\n",
       "      <td>2022</td>\n",
       "      <td>2022-12-23</td>\n",
       "      <td>1111</td>\n",
       "      <td>0.456686</td>\n",
       "    </tr>\n",
       "    <tr>\n",
       "      <th>23</th>\n",
       "      <td>2022</td>\n",
       "      <td>2022-12-24</td>\n",
       "      <td>1111</td>\n",
       "      <td>0.403721</td>\n",
       "    </tr>\n",
       "    <tr>\n",
       "      <th>24</th>\n",
       "      <td>2022</td>\n",
       "      <td>2022-12-25</td>\n",
       "      <td>1111</td>\n",
       "      <td>0.449239</td>\n",
       "    </tr>\n",
       "  </tbody>\n",
       "</table>\n",
       "</div>"
      ],
      "text/plain": [
       "    year        date brand  bounce_rate\n",
       "18  2022  2022-12-19  1111     0.420503\n",
       "19  2022  2022-12-20  1111     0.465251\n",
       "20  2022  2022-12-21  1111     0.420518\n",
       "21  2022  2022-12-22  1111     0.466917\n",
       "22  2022  2022-12-23  1111     0.456686\n",
       "23  2022  2022-12-24  1111     0.403721\n",
       "24  2022  2022-12-25  1111     0.449239"
      ]
     },
     "execution_count": 263,
     "metadata": {},
     "output_type": "execute_result"
    }
   ],
   "source": [
    "dataWMaskDict[key]"
   ]
  },
  {
   "cell_type": "code",
   "execution_count": 248,
   "id": "d28fa712",
   "metadata": {
    "ExecuteTime": {
     "end_time": "2022-12-28T04:11:06.632792Z",
     "start_time": "2022-12-28T04:11:06.613786Z"
    }
   },
   "outputs": [
    {
     "data": {
      "text/plain": [
       "18    2022\n",
       "19    2022\n",
       "20    2022\n",
       "21    2022\n",
       "22    2022\n",
       "23    2022\n",
       "24    2022\n",
       "Name: date, dtype: int64"
      ]
     },
     "execution_count": 248,
     "metadata": {},
     "output_type": "execute_result"
    }
   ],
   "source": [
    "dataWMaskDict['avdDf']['year'] = pd.to_datetime(dataWMaskDict['avdDf']['date']).dt.year"
   ]
  },
  {
   "cell_type": "code",
   "execution_count": 247,
   "id": "13f7c284",
   "metadata": {
    "ExecuteTime": {
     "end_time": "2022-12-28T04:10:40.599811Z",
     "start_time": "2022-12-28T04:10:40.589814Z"
    }
   },
   "outputs": [
    {
     "data": {
      "text/html": [
       "<div>\n",
       "<style scoped>\n",
       "    .dataframe tbody tr th:only-of-type {\n",
       "        vertical-align: middle;\n",
       "    }\n",
       "\n",
       "    .dataframe tbody tr th {\n",
       "        vertical-align: top;\n",
       "    }\n",
       "\n",
       "    .dataframe thead th {\n",
       "        text-align: right;\n",
       "    }\n",
       "</style>\n",
       "<table border=\"1\" class=\"dataframe\">\n",
       "  <thead>\n",
       "    <tr style=\"text-align: right;\">\n",
       "      <th></th>\n",
       "      <th>date</th>\n",
       "      <th>average_visit_duration</th>\n",
       "      <th>year</th>\n",
       "    </tr>\n",
       "  </thead>\n",
       "  <tbody>\n",
       "    <tr>\n",
       "      <th>18</th>\n",
       "      <td>2022-12-19</td>\n",
       "      <td>276.528282</td>\n",
       "      <td>2022</td>\n",
       "    </tr>\n",
       "    <tr>\n",
       "      <th>19</th>\n",
       "      <td>2022-12-20</td>\n",
       "      <td>256.681211</td>\n",
       "      <td>2022</td>\n",
       "    </tr>\n",
       "    <tr>\n",
       "      <th>20</th>\n",
       "      <td>2022-12-21</td>\n",
       "      <td>297.217529</td>\n",
       "      <td>2022</td>\n",
       "    </tr>\n",
       "    <tr>\n",
       "      <th>21</th>\n",
       "      <td>2022-12-22</td>\n",
       "      <td>262.143665</td>\n",
       "      <td>2022</td>\n",
       "    </tr>\n",
       "    <tr>\n",
       "      <th>22</th>\n",
       "      <td>2022-12-23</td>\n",
       "      <td>225.534271</td>\n",
       "      <td>2022</td>\n",
       "    </tr>\n",
       "    <tr>\n",
       "      <th>23</th>\n",
       "      <td>2022-12-24</td>\n",
       "      <td>262.609157</td>\n",
       "      <td>2022</td>\n",
       "    </tr>\n",
       "    <tr>\n",
       "      <th>24</th>\n",
       "      <td>2022-12-25</td>\n",
       "      <td>225.226079</td>\n",
       "      <td>2022</td>\n",
       "    </tr>\n",
       "  </tbody>\n",
       "</table>\n",
       "</div>"
      ],
      "text/plain": [
       "          date  average_visit_duration  year\n",
       "18  2022-12-19              276.528282  2022\n",
       "19  2022-12-20              256.681211  2022\n",
       "20  2022-12-21              297.217529  2022\n",
       "21  2022-12-22              262.143665  2022\n",
       "22  2022-12-23              225.534271  2022\n",
       "23  2022-12-24              262.609157  2022\n",
       "24  2022-12-25              225.226079  2022"
      ]
     },
     "execution_count": 247,
     "metadata": {},
     "output_type": "execute_result"
    }
   ],
   "source": [
    "dataWMaskDict['avdDf']"
   ]
  },
  {
   "cell_type": "markdown",
   "id": "8a869e32",
   "metadata": {},
   "source": [
    "# 網頁排名撈取"
   ]
  },
  {
   "cell_type": "code",
   "execution_count": 238,
   "id": "7f9d6e7e",
   "metadata": {
    "ExecuteTime": {
     "end_time": "2022-12-28T04:01:08.086911Z",
     "start_time": "2022-12-28T04:01:04.489891Z"
    }
   },
   "outputs": [],
   "source": [
    "rankDf1111 = getRankDf('1111')\n",
    "rankDf104 = getRankDf('104')\n",
    "rankDf518 = getRankDf('518')"
   ]
  },
  {
   "cell_type": "code",
   "execution_count": 239,
   "id": "e4321f48",
   "metadata": {
    "ExecuteTime": {
     "end_time": "2022-12-28T04:01:33.064198Z",
     "start_time": "2022-12-28T04:01:33.050222Z"
    }
   },
   "outputs": [
    {
     "data": {
      "text/html": [
       "<div>\n",
       "<style scoped>\n",
       "    .dataframe tbody tr th:only-of-type {\n",
       "        vertical-align: middle;\n",
       "    }\n",
       "\n",
       "    .dataframe tbody tr th {\n",
       "        vertical-align: top;\n",
       "    }\n",
       "\n",
       "    .dataframe thead th {\n",
       "        text-align: right;\n",
       "    }\n",
       "</style>\n",
       "<table border=\"1\" class=\"dataframe\">\n",
       "  <thead>\n",
       "    <tr style=\"text-align: right;\">\n",
       "      <th></th>\n",
       "      <th>date</th>\n",
       "      <th>country_rank</th>\n",
       "    </tr>\n",
       "  </thead>\n",
       "  <tbody>\n",
       "    <tr>\n",
       "      <th>0</th>\n",
       "      <td>2022-12</td>\n",
       "      <td>120.0</td>\n",
       "    </tr>\n",
       "    <tr>\n",
       "      <th>0</th>\n",
       "      <td>2022-12</td>\n",
       "      <td>41.0</td>\n",
       "    </tr>\n",
       "    <tr>\n",
       "      <th>0</th>\n",
       "      <td>2022-12</td>\n",
       "      <td>403.0</td>\n",
       "    </tr>\n",
       "  </tbody>\n",
       "</table>\n",
       "</div>"
      ],
      "text/plain": [
       "      date  country_rank\n",
       "0  2022-12         120.0\n",
       "0  2022-12          41.0\n",
       "0  2022-12         403.0"
      ]
     },
     "execution_count": 239,
     "metadata": {},
     "output_type": "execute_result"
    }
   ],
   "source": [
    "pd.concat([rankDf1111, rankDf104, rankDf518])"
   ]
  },
  {
   "cell_type": "code",
   "execution_count": null,
   "id": "f411ec8b",
   "metadata": {},
   "outputs": [],
   "source": []
  },
  {
   "cell_type": "code",
   "execution_count": null,
   "id": "f5921c8a",
   "metadata": {},
   "outputs": [],
   "source": []
  }
 ],
 "metadata": {
  "kernelspec": {
   "display_name": "Python 3",
   "language": "python",
   "name": "python3"
  },
  "language_info": {
   "codemirror_mode": {
    "name": "ipython",
    "version": 3
   },
   "file_extension": ".py",
   "mimetype": "text/x-python",
   "name": "python",
   "nbconvert_exporter": "python",
   "pygments_lexer": "ipython3",
   "version": "3.8.8"
  },
  "toc": {
   "base_numbering": 1,
   "nav_menu": {},
   "number_sections": true,
   "sideBar": true,
   "skip_h1_title": false,
   "title_cell": "Table of Contents",
   "title_sidebar": "Contents",
   "toc_cell": false,
   "toc_position": {
    "height": "calc(100% - 180px)",
    "left": "10px",
    "top": "150px",
    "width": "165px"
   },
   "toc_section_display": true,
   "toc_window_display": true
  },
  "varInspector": {
   "cols": {
    "lenName": 16,
    "lenType": 16,
    "lenVar": 40
   },
   "kernels_config": {
    "python": {
     "delete_cmd_postfix": "",
     "delete_cmd_prefix": "del ",
     "library": "var_list.py",
     "varRefreshCmd": "print(var_dic_list())"
    },
    "r": {
     "delete_cmd_postfix": ") ",
     "delete_cmd_prefix": "rm(",
     "library": "var_list.r",
     "varRefreshCmd": "cat(var_dic_list()) "
    }
   },
   "types_to_exclude": [
    "module",
    "function",
    "builtin_function_or_method",
    "instance",
    "_Feature"
   ],
   "window_display": false
  }
 },
 "nbformat": 4,
 "nbformat_minor": 5
}

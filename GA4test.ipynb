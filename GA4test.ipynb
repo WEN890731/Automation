{
 "cells": [
  {
   "cell_type": "markdown",
   "id": "3d66b02a",
   "metadata": {},
   "source": [
    "- gapandas4\n",
    "    - [How to query the Google Analytics Data API for GA4 using Python](https://practicaldatascience.co.uk/data-science/how-to-query-the-google-analytics-data-api-for-ga4-with-python)\n",
    "    - [Full package in github](https://github.com/practical-data-science/gapandas4)\n",
    "    - [Schema of dimensions and metrics](https://developers.google.com/analytics/devguides/reporting/data/v1/api-schema?hl=zh-tw)\n",
    "    - [API官方說明](https://developers.google.com/analytics/devguides/reporting/data/v1/quickstart-client-libraries)"
   ]
  },
  {
   "cell_type": "code",
   "execution_count": 1,
   "id": "7f6d95fe",
   "metadata": {
    "ExecuteTime": {
     "end_time": "2023-03-13T07:26:41.254258Z",
     "start_time": "2023-03-13T07:26:40.884618Z"
    }
   },
   "outputs": [],
   "source": [
    "# pip install git+https://github.com/practical-data-science/gapandas4.git\n",
    "# pip install gapandas4\n",
    "# pip google-analytics-data\n",
    "\n",
    "import gapandas4 as gp"
   ]
  },
  {
   "cell_type": "code",
   "execution_count": 2,
   "id": "86753240",
   "metadata": {
    "ExecuteTime": {
     "end_time": "2023-03-13T07:28:45.273742Z",
     "start_time": "2023-03-13T07:28:45.256802Z"
    }
   },
   "outputs": [],
   "source": [
    "service_account = '/Users/wenruiling/Documents/全球華人/內部報表自動化/autoExportData-07f6a659df3f.json'\n",
    "property_id = '151860692'"
   ]
  },
  {
   "cell_type": "code",
   "execution_count": 15,
   "id": "c6436ce6",
   "metadata": {
    "ExecuteTime": {
     "end_time": "2023-03-14T01:58:59.888425Z",
     "start_time": "2023-03-14T01:58:50.650836Z"
    }
   },
   "outputs": [
    {
     "data": {
      "text/html": [
       "<div>\n",
       "<style scoped>\n",
       "    .dataframe tbody tr th:only-of-type {\n",
       "        vertical-align: middle;\n",
       "    }\n",
       "\n",
       "    .dataframe tbody tr th {\n",
       "        vertical-align: top;\n",
       "    }\n",
       "\n",
       "    .dataframe thead th {\n",
       "        text-align: right;\n",
       "    }\n",
       "</style>\n",
       "<table border=\"1\" class=\"dataframe\">\n",
       "  <thead>\n",
       "    <tr style=\"text-align: right;\">\n",
       "      <th></th>\n",
       "      <th>date</th>\n",
       "      <th>deviceCategory</th>\n",
       "      <th>pageTitle</th>\n",
       "      <th>totalUsers</th>\n",
       "      <th>newUsers</th>\n",
       "      <th>sessions</th>\n",
       "      <th>engagedSessions</th>\n",
       "      <th>engagementRate</th>\n",
       "      <th>bounceRate</th>\n",
       "      <th>userEngagementDuration</th>\n",
       "    </tr>\n",
       "  </thead>\n",
       "  <tbody>\n",
       "    <tr>\n",
       "      <th>0</th>\n",
       "      <td>20230301</td>\n",
       "      <td>(other)</td>\n",
       "      <td>(other)</td>\n",
       "      <td>308918</td>\n",
       "      <td>100356</td>\n",
       "      <td>484944</td>\n",
       "      <td>394409</td>\n",
       "      <td>0.81330834075687086</td>\n",
       "      <td>0.18669165924312911</td>\n",
       "      <td>43833254</td>\n",
       "    </tr>\n",
       "    <tr>\n",
       "      <th>1</th>\n",
       "      <td>20230302</td>\n",
       "      <td>(other)</td>\n",
       "      <td>(other)</td>\n",
       "      <td>299649</td>\n",
       "      <td>96147</td>\n",
       "      <td>459362</td>\n",
       "      <td>381947</td>\n",
       "      <td>0.83147278181477791</td>\n",
       "      <td>0.16852721818522212</td>\n",
       "      <td>40961323</td>\n",
       "    </tr>\n",
       "    <tr>\n",
       "      <th>2</th>\n",
       "      <td>20230303</td>\n",
       "      <td>(other)</td>\n",
       "      <td>(other)</td>\n",
       "      <td>274198</td>\n",
       "      <td>83559</td>\n",
       "      <td>412139</td>\n",
       "      <td>327958</td>\n",
       "      <td>0.79574609537073659</td>\n",
       "      <td>0.20425390462926343</td>\n",
       "      <td>33124143</td>\n",
       "    </tr>\n",
       "    <tr>\n",
       "      <th>3</th>\n",
       "      <td>20230228</td>\n",
       "      <td>(other)</td>\n",
       "      <td>(other)</td>\n",
       "      <td>181009</td>\n",
       "      <td>73944</td>\n",
       "      <td>262419</td>\n",
       "      <td>210850</td>\n",
       "      <td>0.80348602806961389</td>\n",
       "      <td>0.19651397193038614</td>\n",
       "      <td>16844994</td>\n",
       "    </tr>\n",
       "    <tr>\n",
       "      <th>4</th>\n",
       "      <td>20230304</td>\n",
       "      <td>(other)</td>\n",
       "      <td>(other)</td>\n",
       "      <td>168486</td>\n",
       "      <td>64066</td>\n",
       "      <td>232453</td>\n",
       "      <td>204656</td>\n",
       "      <td>0.88041883735636883</td>\n",
       "      <td>0.11958116264363118</td>\n",
       "      <td>15648583</td>\n",
       "    </tr>\n",
       "  </tbody>\n",
       "</table>\n",
       "</div>"
      ],
      "text/plain": [
       "       date deviceCategory pageTitle totalUsers newUsers sessions  \\\n",
       "0  20230301        (other)   (other)     308918   100356   484944   \n",
       "1  20230302        (other)   (other)     299649    96147   459362   \n",
       "2  20230303        (other)   (other)     274198    83559   412139   \n",
       "3  20230228        (other)   (other)     181009    73944   262419   \n",
       "4  20230304        (other)   (other)     168486    64066   232453   \n",
       "\n",
       "  engagedSessions       engagementRate           bounceRate  \\\n",
       "0          394409  0.81330834075687086  0.18669165924312911   \n",
       "1          381947  0.83147278181477791  0.16852721818522212   \n",
       "2          327958  0.79574609537073659  0.20425390462926343   \n",
       "3          210850  0.80348602806961389  0.19651397193038614   \n",
       "4          204656  0.88041883735636883  0.11958116264363118   \n",
       "\n",
       "  userEngagementDuration  \n",
       "0               43833254  \n",
       "1               40961323  \n",
       "2               33124143  \n",
       "3               16844994  \n",
       "4               15648583  "
      ]
     },
     "execution_count": 15,
     "metadata": {},
     "output_type": "execute_result"
    }
   ],
   "source": [
    "request = gp.RunReportRequest(\n",
    "    property=f\"properties/{property_id}\",\n",
    "    dimensions=[\n",
    "        gp.Dimension(name=\"date\"),\n",
    "        gp.Dimension(name=\"deviceCategory\"),\n",
    "        gp.Dimension(name=\"pageTitle\")\n",
    "    ],\n",
    "    metrics=[\n",
    "        gp.Metric(name=\"totalUsers\"),\n",
    "        gp.Metric(name=\"newUsers\"),\n",
    "        gp.Metric(name=\"sessions\"),\n",
    "        gp.Metric(name=\"engagedSessions\"),\n",
    "        gp.Metric(name=\"engagementRate\"),\n",
    "        gp.Metric(name=\"bounceRate\"),\n",
    "        gp.Metric(name=\"userEngagementDuration\")\n",
    "    ],\n",
    "    date_ranges=[gp.DateRange(start_date=\"2023-02-27\", end_date=\"2023-03-05\")],\n",
    ")\n",
    "\n",
    "df = gp.query(service_account, request)\n",
    "df.head()"
   ]
  },
  {
   "cell_type": "code",
   "execution_count": 17,
   "id": "3e5e9718",
   "metadata": {
    "ExecuteTime": {
     "end_time": "2023-03-14T01:59:19.466162Z",
     "start_time": "2023-03-14T01:59:19.315986Z"
    }
   },
   "outputs": [],
   "source": [
    "df.to_excel('dataOfGa4_api_v2.xlsx')"
   ]
  },
  {
   "cell_type": "code",
   "execution_count": null,
   "id": "f7dc6436",
   "metadata": {},
   "outputs": [],
   "source": []
  }
 ],
 "metadata": {
  "kernelspec": {
   "display_name": "Python 3",
   "language": "python",
   "name": "python3"
  },
  "language_info": {
   "codemirror_mode": {
    "name": "ipython",
    "version": 3
   },
   "file_extension": ".py",
   "mimetype": "text/x-python",
   "name": "python",
   "nbconvert_exporter": "python",
   "pygments_lexer": "ipython3",
   "version": "3.8.5"
  },
  "toc": {
   "base_numbering": 1,
   "nav_menu": {},
   "number_sections": true,
   "sideBar": true,
   "skip_h1_title": false,
   "title_cell": "Table of Contents",
   "title_sidebar": "Contents",
   "toc_cell": false,
   "toc_position": {},
   "toc_section_display": true,
   "toc_window_display": false
  },
  "varInspector": {
   "cols": {
    "lenName": 16,
    "lenType": 16,
    "lenVar": 40
   },
   "kernels_config": {
    "python": {
     "delete_cmd_postfix": "",
     "delete_cmd_prefix": "del ",
     "library": "var_list.py",
     "varRefreshCmd": "print(var_dic_list())"
    },
    "r": {
     "delete_cmd_postfix": ") ",
     "delete_cmd_prefix": "rm(",
     "library": "var_list.r",
     "varRefreshCmd": "cat(var_dic_list()) "
    }
   },
   "types_to_exclude": [
    "module",
    "function",
    "builtin_function_or_method",
    "instance",
    "_Feature"
   ],
   "window_display": false
  }
 },
 "nbformat": 4,
 "nbformat_minor": 5
}

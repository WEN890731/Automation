{
 "cells": [
  {
   "cell_type": "code",
   "execution_count": 6,
   "id": "c3674030",
   "metadata": {
    "ExecuteTime": {
     "end_time": "2023-03-01T03:39:09.017034Z",
     "start_time": "2023-03-01T03:39:06.533443Z"
    }
   },
   "outputs": [],
   "source": [
    "import pandas as pd\n",
    "import datetime\n",
    "from dateutil.relativedelta import relativedelta\n",
    "import requests\n",
    "import json\n",
    "from main import GoogleAPIClient"
   ]
  },
  {
   "cell_type": "markdown",
   "id": "5113a5b9",
   "metadata": {},
   "source": [
    "# Function"
   ]
  },
  {
   "cell_type": "code",
   "execution_count": 7,
   "id": "1c3d4a1e",
   "metadata": {
    "ExecuteTime": {
     "end_time": "2023-03-01T03:39:09.963188Z",
     "start_time": "2023-03-01T03:39:09.948195Z"
    }
   },
   "outputs": [],
   "source": [
    "class GoogleSheets(GoogleAPIClient):\n",
    "    def __init__(self) -> None:\n",
    "        # 呼叫 GoogleAPIClient.__init__()，並提供 serviceName, version, scope\n",
    "        super().__init__(\n",
    "            'sheets',\n",
    "            'v4',\n",
    "            ['https://www.googleapis.com/auth/spreadsheets'],\n",
    "        )\n",
    "\n",
    "    def getWorksheet2Df(self, spreadsheetId: str, range: str):#獲取指定google sheet的檔案，輸出成dataframe\n",
    "        request = self.googleAPIService.spreadsheets().values().get(\n",
    "            spreadsheetId=spreadsheetId,\n",
    "            range=range,\n",
    "        )\n",
    "        result = request.execute()['values']\n",
    "        header = result[0]\n",
    "        del result[0]\n",
    "        return pd.DataFrame(result, columns=header)\n",
    "    \n",
    "    def getWorksheet(self, spreadsheetId: str, range: str):#獲取指定google sheet的檔案，輸出成list\n",
    "        request = self.googleAPIService.spreadsheets().values().get(\n",
    "            spreadsheetId=spreadsheetId,\n",
    "            range=range,\n",
    "        )\n",
    "        response = request.execute()['values']\n",
    "        return response\n",
    "\n",
    "    def clearWorksheet(self, spreadsheetId: str, range: str):#清除指定google sheet的資料\n",
    "        self.googleAPIService.spreadsheets().values().clear(\n",
    "            spreadsheetId=spreadsheetId,\n",
    "            range=range,\n",
    "        ).execute()\n",
    "        return 'done'\n",
    "    \n",
    "    def setWorksheet(self, spreadsheetId: str, range: str, df: pd.DataFrame):#清除指定google sheet的資料後新增資料(dataframe)\n",
    "        self.clearWorksheet(spreadsheetId, range)\n",
    "        #使用 update 的語法把我們新的數據加入至 Google Sheets\n",
    "        self.googleAPIService.spreadsheets().values().update(\n",
    "            spreadsheetId=spreadsheetId,\n",
    "            range=range,\n",
    "            valueInputOption='USER_ENTERED',\n",
    "            body={\n",
    "                'majorDimension': 'ROWS',\n",
    "                'values': df.T.reset_index().T.values.tolist()\n",
    "            },\n",
    "        ).execute()\n",
    "        return 'done'\n",
    "\n",
    "    def appendWorksheet(self, spreadsheetId: str, range: str, df: pd.DataFrame):#對指定google sheet加入資料(dataframe)\n",
    "        self.googleAPIService.spreadsheets().values().append(\n",
    "            spreadsheetId=spreadsheetId,\n",
    "            range=range,\n",
    "            valueInputOption='USER_ENTERED',\n",
    "            body={\n",
    "                'majorDimension': 'ROWS',\n",
    "                'values': df.values.tolist()\n",
    "            },\n",
    "        ).execute()\n",
    "        return 'done'\n",
    "    "
   ]
  },
  {
   "cell_type": "code",
   "execution_count": null,
   "id": "38866297",
   "metadata": {
    "ExecuteTime": {
     "end_time": "2023-03-01T03:38:39.947496Z",
     "start_time": "2023-03-01T03:38:38.971Z"
    }
   },
   "outputs": [],
   "source": [
    "#分組規則測試\n",
    "def testFun(pageName, url, df):\n",
    "    d = df[(df[\"頁面分組\"].str.contains(pageName))]\n",
    "    l = len(d[(d['URL'].str.contains(url))])\n",
    "    print(f'{pageName}總共有{len(d)}個，\\n有{l}個\\n包含{url}')\n",
    "    ex = '\\n'.join(d[~(d['URL'].str.contains(url))].URL)\n",
    "    print(f'沒有包含到的URL是\\n{ex}\\n')\n",
    "    \n",
    "    e = df[(df[\"URL\"].str.contains(url)==True)]\n",
    "    l2 = e[~(e['頁面分組'].str.contains(pageName))]\n",
    "    other = '\\n'.join(l2.頁面分組)\n",
    "    print(f'網址中有上面的URL的數據，不是\"{pageName}\"的有{len(l2)}個\\n分類為\\n{other}')"
   ]
  },
  {
   "cell_type": "code",
   "execution_count": null,
   "id": "06a37e6e",
   "metadata": {
    "ExecuteTime": {
     "end_time": "2023-03-01T03:38:39.950495Z",
     "start_time": "2023-03-01T03:38:39.243Z"
    }
   },
   "outputs": [],
   "source": [
    "#其他頁面測試\n",
    "def otherPageTest(cat):\n",
    "    sheetName = '網址分類_'+cat\n",
    "    role = pd.read_excel(\"C:/Users/wendywen/python code/06-202208-AutoUpdateKPIReport/sw檔案/reshape.xlsx\" ,sheet_name=sheetName)\n",
    "    role['URL'] = role['URL'].str.lower()\n",
    "    regex = pd.read_excel(\"C:/Users/wendywen/python code/06-202208-AutoUpdateKPIReport/sw檔案/cat.xlsx\" ,sheet_name=cat)\n",
    "    claList = []\n",
    "    for i in regex.reg:\n",
    "        claList.extend(role[(role[\"URL\"].str.contains(i)==True)].index)\n",
    "    fileName = cat+'其他頁面.xlsx'\n",
    "    role.iloc[list(set(role.index)-set(claList))].reset_index(drop = True).to_excel(fileName)"
   ]
  },
  {
   "cell_type": "markdown",
   "id": "ef2d9b12",
   "metadata": {},
   "source": [
    "* 3/1抓2月會沒資料，之後要過幾天再抓前一個月\n",
    "* 函式要改回dat - relativedelta(months=1)"
   ]
  },
  {
   "cell_type": "code",
   "execution_count": 3,
   "id": "8d6228e9",
   "metadata": {
    "ExecuteTime": {
     "end_time": "2023-03-01T03:38:40.239753Z",
     "start_time": "2023-03-01T03:38:40.219768Z"
    }
   },
   "outputs": [],
   "source": [
    "def trafficGet(curBrand):\n",
    "    dat = datetime.datetime.now()\n",
    "    lastMonth = dat - relativedelta(months=2)\n",
    "    lastMonth4api = lastMonth.strftime('%Y-%m')\n",
    "    brand = curBrand\n",
    "\n",
    "    url = \"https://api.similarweb.com/v1/website/%s.com.tw/traffic-sources/overview-share?api_key=7e552f683942499fbd752ad182af1dab&start_date=%s&end_date=%s&country=tw&granularity=monthly&main_domain_only=false&format=json&mtd=false\"%(brand, lastMonth4api, lastMonth4api)\n",
    "    headers = {\"accept\": \"application/json\"}\n",
    "    response = json.loads(requests.get(url, headers=headers).text)\n",
    "\n",
    "    curUrl = brand + '.com.tw'\n",
    "    trafficData = response['visits'][curUrl][0]['visits'][0]['organic']\n",
    "    return trafficData"
   ]
  },
  {
   "cell_type": "code",
   "execution_count": 29,
   "id": "b57d7917",
   "metadata": {
    "ExecuteTime": {
     "end_time": "2023-03-01T03:48:13.107241Z",
     "start_time": "2023-03-01T03:48:13.074252Z"
    }
   },
   "outputs": [],
   "source": [
    "def classti(brand, oriDf):\n",
    "    oriDf['URL'] = oriDf['URL'].str.lower()\n",
    "    \n",
    "    if brand=='518':\n",
    "        #辨識其他頁面\n",
    "        other518 = pd.read_excel(\"C:/Users/wendywen/python code/06-202208-AutoUpdateKPIReport/sw檔案/cat.xlsx\" ,sheet_name='518other')\n",
    "        for i in range(len(other518.reg)):\n",
    "            oriDf.loc[(oriDf['URL'].str.contains(other518.reg[i])), 'category'] = '其他頁面'\n",
    "        #網頁群組分類\n",
    "        regex518 = pd.read_excel(\"C:/Users/wendywen/python code/06-202208-AutoUpdateKPIReport/sw檔案/cat.xlsx\" ,sheet_name='518')\n",
    "        catNum = len(regex518.cat)\n",
    "        for i in range(catNum):\n",
    "            if regex518.cat[i]=='03.職缺頁':\n",
    "                searchResReg = regex518.loc[(regex518['cat'].str.contains('04.職缺搜尋結果'))].reg.values[0]\n",
    "                oriDf.loc[~(oriDf['URL'].str.contains(searchResReg)) & (oriDf['URL'].str.contains('^518.com.tw/job-')), 'category'] = '03.職缺頁'\n",
    "                oriDf.loc[~(oriDf['URL'].str.contains(searchResReg)) & (oriDf['URL'].str.contains('^518.com.tw/job-')), 'index'] = 3\n",
    "            else:\n",
    "                oriDf.loc[(oriDf['URL'].str.contains(regex518.reg[i])), 'category'] = regex518.cat[i]\n",
    "                oriDf.loc[(oriDf['URL'].str.contains(regex518.reg[i])), 'index'] = regex518.indexC[i]\n",
    "        #辨識未分類頁面\n",
    "        oriDf.loc[oriDf.category.isnull(), 'category'] = '未分類'\n",
    "        \n",
    "        oriDf.loc[oriDf['category']=='未分類', 'index'] = 0\n",
    "        oriDf.loc[oriDf['category']=='其他頁面', 'index'] = len(regex518)+1\n",
    "    \n",
    "    elif brand=='1111':\n",
    "        #辨識其他頁面\n",
    "        other1111 = pd.read_excel(\"C:/Users/wendywen/python code/06-202208-AutoUpdateKPIReport/sw檔案/cat.xlsx\" ,sheet_name='1111other')\n",
    "        for i in range(len(other1111.reg)):\n",
    "            oriDf.loc[(oriDf['URL'].str.contains(other1111.reg[i])), 'category'] = '其他頁面'\n",
    "        #網頁群組分類\n",
    "        regex1111 = pd.read_excel(\"C:/Users/wendywen/python code/06-202208-AutoUpdateKPIReport/sw檔案/cat.xlsx\" ,sheet_name='1111')\n",
    "        catNum = len(regex1111.cat)\n",
    "        for i in range(catNum):\n",
    "            oriDf.loc[(oriDf['URL'].str.contains(regex1111.reg[i])), 'category'] = regex1111.cat[i]\n",
    "            oriDf.loc[(oriDf['URL'].str.contains(regex1111.reg[i])), 'index'] = regex1111.indexC[i]\n",
    "        #辨識未分類頁面   \n",
    "        oriDf.loc[oriDf.category.isnull(), 'category'] = '未分類'\n",
    "        \n",
    "        oriDf.loc[oriDf['category']=='未分類', 'index'] = 0\n",
    "        oriDf.loc[oriDf['category']=='其他頁面', 'index'] = len(regex1111)+1\n",
    "        \n",
    "    elif brand=='104':\n",
    "        #辨識其他頁面\n",
    "        other104 = pd.read_excel(\"C:/Users/wendywen/python code/06-202208-AutoUpdateKPIReport/sw檔案/cat.xlsx\" ,sheet_name='104other')\n",
    "        for i in range(len(other104.reg)):\n",
    "            oriDf.loc[(oriDf['URL'].str.contains(other104.reg[i])), 'category'] = '其他頁面'\n",
    "        #網頁群組分類\n",
    "        regex104 = pd.read_excel(\"C:/Users/wendywen/python code/06-202208-AutoUpdateKPIReport/sw檔案/cat.xlsx\" ,sheet_name='104')\n",
    "        catNum = len(regex104.cat)\n",
    "        for i in range(catNum):\n",
    "            if regex104.cat[i]=='招募管理':\n",
    "                searchResReg = regex104.loc[(regex104['cat'].str.contains('人資充電'))].reg.values[0]\n",
    "                oriDf.loc[~(oriDf['URL'].str.contains(searchResReg)) & (oriDf['URL'].str.contains('^pro.104.com.tw')), 'category'] = '招募管理'\n",
    "                oriDf.loc[~(oriDf['URL'].str.contains(searchResReg)) & (oriDf['URL'].str.contains('^pro.104.com.tw')), 'index'] = 25\n",
    "            else:\n",
    "                oriDf.loc[(oriDf['URL'].str.contains(regex104.reg[i])), 'category'] = regex104.cat[i]\n",
    "                oriDf.loc[(oriDf['URL'].str.contains(regex104.reg[i])), 'index'] = regex104.indexC[i]\n",
    "        #辨識未分類頁面\n",
    "        oriDf.loc[oriDf.category.isnull(), 'category'] = '未分類'\n",
    "        \n",
    "        oriDf.loc[oriDf['category']=='未分類', 'index'] = 0\n",
    "        oriDf.loc[oriDf['category']=='其他頁面', 'index'] = len(regex104)+1\n",
    "        \n",
    "    else:\n",
    "        oriDf['category'] = ['目前暫無此網頁分類規則']*len(oriDf)\n",
    "        oriDf['index'] = [0]*len(oriDf)\n",
    "\n",
    "#     oriDf = oriDf.sort_values(by=['index'])\n",
    "    oriDf['checkIndex'] = [i for i in range(len(oriDf))]\n",
    "    #日期欄位設定\n",
    "    dat = datetime.datetime.now()\n",
    "    lastMonth = dat - relativedelta(months=1)\n",
    "    lastMonthStr = lastMonth.strftime('%b-%y')\n",
    "    oriDf['date'] = lastMonthStr\n",
    "    \n",
    "    #計算各網頁traffic\n",
    "    tra = 847054.8980801627#trafficGet(brand)\n",
    "    oriDf['traffic'] = oriDf['Traffic Share']*tra\n",
    "    \n",
    "    #欄位順序調整\n",
    "    oriDf = oriDf[['checkIndex', 'date', 'URL', 'Traffic Share', 'Keywords', 'Top Keyword', 'category', 'traffic']]\n",
    "    \n",
    "    return oriDf"
   ]
  },
  {
   "cell_type": "code",
   "execution_count": 5,
   "id": "712f3452",
   "metadata": {
    "ExecuteTime": {
     "end_time": "2023-03-01T03:38:42.042668Z",
     "start_time": "2023-03-01T03:38:42.036671Z"
    }
   },
   "outputs": [],
   "source": [
    "# 分類成果測試\n",
    "def resTestFun(pageName, url, df):\n",
    "    d = df[(df[\"category\"].str.contains(pageName))]\n",
    "    l = len(d[(d['URL'].str.contains(url))])\n",
    "    print(f'{pageName}總共有{len(d)}個，\\n有{l}個\\n包含{url}')\n",
    "    ex = '\\n'.join(d[~(d['URL'].str.contains(url))].URL)\n",
    "    print(f'沒有包含到的URL是\\n{ex}\\n')\n",
    "    \n",
    "    e = df[(df[\"URL\"].str.contains(url)==True)]\n",
    "    l2 = e[~(e['category'].str.contains(pageName))]\n",
    "    other = '\\n'.join(l2.category)\n",
    "    print(f'網址中有上面的URL的數據，不是\"{pageName}\"的有{len(l2)}個\\n分類為\\n{other}')"
   ]
  },
  {
   "cell_type": "markdown",
   "id": "2e08ad48",
   "metadata": {},
   "source": [
    "# 網頁URL紀錄"
   ]
  },
  {
   "cell_type": "code",
   "execution_count": 235,
   "id": "d7cbd920",
   "metadata": {
    "ExecuteTime": {
     "end_time": "2023-02-17T09:27:08.195294Z",
     "start_time": "2023-02-17T09:26:54.885806Z"
    }
   },
   "outputs": [],
   "source": [
    "role1111 = pd.read_excel(\"C:/Users/wendywen/python code/06-202208-AutoUpdateKPIReport/sw檔案/reshape.xlsx\" ,sheet_name='網址分類_1111')\n",
    "role104 = pd.read_excel(\"C:/Users/wendywen/python code/06-202208-AutoUpdateKPIReport/sw檔案/reshape.xlsx\" ,sheet_name='網址分類_104')\n",
    "role518 = pd.read_excel(\"C:/Users/wendywen/python code/06-202208-AutoUpdateKPIReport/sw檔案/reshape.xlsx\" ,sheet_name='網址分類_518')"
   ]
  },
  {
   "cell_type": "code",
   "execution_count": 236,
   "id": "c1a32560",
   "metadata": {
    "ExecuteTime": {
     "end_time": "2023-02-17T09:27:54.008504Z",
     "start_time": "2023-02-17T09:27:53.941526Z"
    }
   },
   "outputs": [],
   "source": [
    "role1111['URL'] = role1111['URL'].str.lower()\n",
    "role104['URL'] = role104['URL'].str.lower()\n",
    "role518['URL'] = role518['URL'].str.lower()"
   ]
  },
  {
   "cell_type": "code",
   "execution_count": 455,
   "id": "16343e6a",
   "metadata": {
    "ExecuteTime": {
     "end_time": "2023-02-22T01:54:37.699574Z",
     "start_time": "2023-02-22T01:54:37.653814Z"
    },
    "scrolled": true
   },
   "outputs": [
    {
     "name": "stdout",
     "output_type": "stream",
     "text": [
      "01.首頁總共有1個，\n",
      "有1個\n",
      "包含^1111.com.tw$\n",
      "沒有包含到的URL是\n",
      "\n",
      "\n",
      "網址中有上面的URL的數據，不是\"01.首頁\"的有0個\n",
      "分類為\n",
      "\n"
     ]
    }
   ],
   "source": [
    "testFun('01.首頁', '^1111.com.tw$', role1111)"
   ]
  },
  {
   "cell_type": "code",
   "execution_count": 350,
   "id": "6ab6c4cd",
   "metadata": {
    "ExecuteTime": {
     "end_time": "2023-02-20T05:48:21.976760Z",
     "start_time": "2023-02-20T05:48:21.929735Z"
    },
    "scrolled": true
   },
   "outputs": [
    {
     "data": {
      "text/html": [
       "<div>\n",
       "<style scoped>\n",
       "    .dataframe tbody tr th:only-of-type {\n",
       "        vertical-align: middle;\n",
       "    }\n",
       "\n",
       "    .dataframe tbody tr th {\n",
       "        vertical-align: top;\n",
       "    }\n",
       "\n",
       "    .dataframe thead th {\n",
       "        text-align: right;\n",
       "    }\n",
       "</style>\n",
       "<table border=\"1\" class=\"dataframe\">\n",
       "  <thead>\n",
       "    <tr style=\"text-align: right;\">\n",
       "      <th></th>\n",
       "      <th>URL</th>\n",
       "      <th>頁面分組</th>\n",
       "    </tr>\n",
       "  </thead>\n",
       "  <tbody>\n",
       "    <tr>\n",
       "      <th>35345</th>\n",
       "      <td>104.com.tw/jobs/main/freshman</td>\n",
       "      <td>其他頁面</td>\n",
       "    </tr>\n",
       "    <tr>\n",
       "      <th>38800</th>\n",
       "      <td>104.com.tw/jobs/main/category</td>\n",
       "      <td>其他頁面</td>\n",
       "    </tr>\n",
       "    <tr>\n",
       "      <th>40354</th>\n",
       "      <td>104.com.tw/jobs/main/category</td>\n",
       "      <td>03.職缺頁</td>\n",
       "    </tr>\n",
       "    <tr>\n",
       "      <th>40355</th>\n",
       "      <td>104.com.tw/jobs/main/category?area=6002000000</td>\n",
       "      <td>03.職缺頁</td>\n",
       "    </tr>\n",
       "    <tr>\n",
       "      <th>40356</th>\n",
       "      <td>104.com.tw/jobs/main/freshman</td>\n",
       "      <td>03.職缺頁</td>\n",
       "    </tr>\n",
       "  </tbody>\n",
       "</table>\n",
       "</div>"
      ],
      "text/plain": [
       "                                                 URL    頁面分組\n",
       "35345                  104.com.tw/jobs/main/freshman    其他頁面\n",
       "38800                  104.com.tw/jobs/main/category    其他頁面\n",
       "40354                  104.com.tw/jobs/main/category  03.職缺頁\n",
       "40355  104.com.tw/jobs/main/category?area=6002000000  03.職缺頁\n",
       "40356                  104.com.tw/jobs/main/freshman  03.職缺頁"
      ]
     },
     "execution_count": 350,
     "metadata": {},
     "output_type": "execute_result"
    }
   ],
   "source": [
    "e = role104[(role104[\"URL\"].str.contains('^104.com.tw/jb/category|^104.com.tw/jobs/main/category|^104.com.tw/jobs/main/freshman')==True)]\n",
    "l2 = e[~(e['頁面分組'].str.contains('06.分類找工作'))]\n",
    "l2"
   ]
  },
  {
   "cell_type": "code",
   "execution_count": 522,
   "id": "b94c9e96",
   "metadata": {
    "ExecuteTime": {
     "end_time": "2023-02-22T03:20:21.940488Z",
     "start_time": "2023-02-22T03:20:21.848518Z"
    }
   },
   "outputs": [],
   "source": [
    "#測試用正規表達後，有沒有甚麼URL分類不應該在其他頁面的被包含進來\n",
    "regex518 = pd.read_excel(\"C:/Users/wendywen/python code/06-202208-AutoUpdateKPIReport/sw檔案/cat.xlsx\" ,sheet_name='518')\n",
    "regex1111 = pd.read_excel(\"C:/Users/wendywen/python code/06-202208-AutoUpdateKPIReport/sw檔案/cat.xlsx\" ,sheet_name='1111')\n",
    "regex104 = pd.read_excel(\"C:/Users/wendywen/python code/06-202208-AutoUpdateKPIReport/sw檔案/cat.xlsx\" ,sheet_name='104')"
   ]
  },
  {
   "cell_type": "code",
   "execution_count": 532,
   "id": "94981126",
   "metadata": {
    "ExecuteTime": {
     "end_time": "2023-02-22T03:28:04.743761Z",
     "start_time": "2023-02-22T03:28:02.044787Z"
    }
   },
   "outputs": [],
   "source": [
    "otherPageTest('518')"
   ]
  },
  {
   "cell_type": "markdown",
   "id": "82ff072a",
   "metadata": {},
   "source": [
    "# 頁面分組判斷"
   ]
  },
  {
   "cell_type": "markdown",
   "id": "27d7925a",
   "metadata": {},
   "source": [
    "## 518"
   ]
  },
  {
   "cell_type": "code",
   "execution_count": 8,
   "id": "36aba376",
   "metadata": {
    "ExecuteTime": {
     "end_time": "2023-03-01T03:39:16.585385Z",
     "start_time": "2023-03-01T03:39:15.160104Z"
    }
   },
   "outputs": [],
   "source": [
    "oriDf518 = pd.read_excel(\"C:/Users/wendywen/python code/06-202208-AutoUpdateKPIReport/sw檔案/ori518.xlsx\", sheet_name='Landing_Pages')\n",
    "regex518 = pd.read_excel(\"C:/Users/wendywen/python code/06-202208-AutoUpdateKPIReport/sw檔案/cat.xlsx\" ,sheet_name='518')"
   ]
  },
  {
   "cell_type": "code",
   "execution_count": 9,
   "id": "ef3aec6a",
   "metadata": {
    "ExecuteTime": {
     "end_time": "2023-03-01T03:39:23.289160Z",
     "start_time": "2023-03-01T03:39:23.261168Z"
    }
   },
   "outputs": [],
   "source": [
    "catNum = len(regex518.cat)\n",
    "oriDf518['URL'] = oriDf518['URL'].str.lower()\n",
    "for i in range(catNum):\n",
    "    if regex518.cat[i]=='03.職缺頁':\n",
    "        searchResReg = regex518.loc[(regex518['cat'].str.contains('04.職缺搜尋結果'))].reg.values[0]\n",
    "        oriDf518.loc[~(oriDf518['URL'].str.contains(searchResReg)) & (oriDf518['URL'].str.contains('^518.com.tw/job-')), 'category'] = '03.職缺頁'\n",
    "    else:\n",
    "        oriDf518.loc[(oriDf518['URL'].str.contains(regex518.reg[i])), 'category'] = regex518.cat[i]"
   ]
  },
  {
   "cell_type": "code",
   "execution_count": 10,
   "id": "cf0c74b9",
   "metadata": {
    "ExecuteTime": {
     "end_time": "2023-03-01T03:39:27.655127Z",
     "start_time": "2023-03-01T03:39:27.620130Z"
    }
   },
   "outputs": [],
   "source": [
    "other518 = pd.read_excel(\"C:/Users/wendywen/python code/06-202208-AutoUpdateKPIReport/sw檔案/cat.xlsx\" ,sheet_name='518other')\n",
    "oriDf518.loc[oriDf518.URL.isin(other518.reg.values), 'category'] = '其他頁面'\n",
    "oriDf518.loc[oriDf518.category.isnull(), 'category'] = '未分類'"
   ]
  },
  {
   "cell_type": "code",
   "execution_count": 408,
   "id": "e316f2b3",
   "metadata": {
    "ExecuteTime": {
     "end_time": "2023-02-21T03:48:59.188853Z",
     "start_time": "2023-02-21T03:48:59.038296Z"
    }
   },
   "outputs": [],
   "source": [
    "# oriDf518.to_excel('518test.xlsx')"
   ]
  },
  {
   "cell_type": "markdown",
   "id": "a70acb46",
   "metadata": {},
   "source": [
    "## 1111"
   ]
  },
  {
   "cell_type": "code",
   "execution_count": 11,
   "id": "109e1f58",
   "metadata": {
    "ExecuteTime": {
     "end_time": "2023-03-01T03:39:32.362200Z",
     "start_time": "2023-03-01T03:39:32.093331Z"
    }
   },
   "outputs": [],
   "source": [
    "oriDf1111 = pd.read_excel(\"C:/Users/wendywen/python code/06-202208-AutoUpdateKPIReport/sw檔案/ori1111.xlsx\", sheet_name='Landing_Pages')\n",
    "regex1111 = pd.read_excel(\"C:/Users/wendywen/python code/06-202208-AutoUpdateKPIReport/sw檔案/cat.xlsx\" ,sheet_name='1111')"
   ]
  },
  {
   "cell_type": "code",
   "execution_count": 12,
   "id": "52fb8f4f",
   "metadata": {
    "ExecuteTime": {
     "end_time": "2023-03-01T03:39:32.940341Z",
     "start_time": "2023-03-01T03:39:32.828938Z"
    }
   },
   "outputs": [],
   "source": [
    "catNum = len(regex1111.cat)\n",
    "oriDf1111['URL'] = oriDf1111['URL'].str.lower()\n",
    "for i in range(catNum):\n",
    "    oriDf1111.loc[(oriDf1111['URL'].str.contains(regex1111.reg[i])), 'category'] = regex1111.cat[i]\n",
    "\n",
    "other1111 = pd.read_excel(\"C:/Users/wendywen/python code/06-202208-AutoUpdateKPIReport/sw檔案/cat.xlsx\" ,sheet_name='1111other')\n",
    "oriDf1111.loc[oriDf1111.URL.isin(other1111.reg.values), 'category'] = '其他頁面'\n",
    "oriDf1111.loc[oriDf1111.category.isnull(), 'category'] = '未分類'"
   ]
  },
  {
   "cell_type": "code",
   "execution_count": 494,
   "id": "ccf99bbe",
   "metadata": {
    "ExecuteTime": {
     "end_time": "2023-02-22T02:55:19.774053Z",
     "start_time": "2023-02-22T02:55:19.485311Z"
    }
   },
   "outputs": [],
   "source": [
    "# oriDf1111.to_excel('1111test.xlsx')"
   ]
  },
  {
   "cell_type": "markdown",
   "id": "e1f19f3d",
   "metadata": {},
   "source": [
    "## 104"
   ]
  },
  {
   "cell_type": "code",
   "execution_count": 13,
   "id": "6090f4ae",
   "metadata": {
    "ExecuteTime": {
     "end_time": "2023-03-01T03:39:36.416197Z",
     "start_time": "2023-03-01T03:39:35.981274Z"
    }
   },
   "outputs": [],
   "source": [
    "oriDf104 = pd.read_excel(\"C:/Users/wendywen/python code/06-202208-AutoUpdateKPIReport/sw檔案/ori104.xlsx\", sheet_name='Landing_Pages')\n",
    "regex104 = pd.read_excel(\"C:/Users/wendywen/python code/06-202208-AutoUpdateKPIReport/sw檔案/cat.xlsx\" ,sheet_name='104')"
   ]
  },
  {
   "cell_type": "code",
   "execution_count": 14,
   "id": "2c5f5dd9",
   "metadata": {
    "ExecuteTime": {
     "end_time": "2023-03-01T03:39:37.522668Z",
     "start_time": "2023-03-01T03:39:37.364363Z"
    }
   },
   "outputs": [],
   "source": [
    "catNum = len(regex104.cat)\n",
    "oriDf104['URL'] = oriDf104['URL'].str.lower()\n",
    "for i in range(catNum):\n",
    "    if regex104.cat[i]=='招募管理':\n",
    "        searchResReg = regex104.loc[(regex104['cat'].str.contains('人資充電'))].reg.values[0]\n",
    "        oriDf104.loc[~(oriDf104['URL'].str.contains(searchResReg)) & (oriDf104['URL'].str.contains('^pro.104.com.tw')), 'category'] = '招募管理'\n",
    "    else:\n",
    "        oriDf104.loc[(oriDf104['URL'].str.contains(regex104.reg[i])), 'category'] = regex104.cat[i]\n",
    "\n",
    "other104 = pd.read_excel(\"C:/Users/wendywen/python code/06-202208-AutoUpdateKPIReport/sw檔案/cat.xlsx\" ,sheet_name='104other')\n",
    "oriDf104.loc[oriDf104.URL.isin(other104.reg.values), 'category'] = '其他頁面'\n",
    "oriDf104.loc[oriDf104.category.isnull(), 'category'] = '未分類'"
   ]
  },
  {
   "cell_type": "code",
   "execution_count": 552,
   "id": "3493deef",
   "metadata": {
    "ExecuteTime": {
     "end_time": "2023-02-23T01:24:12.282196Z",
     "start_time": "2023-02-23T01:24:11.675964Z"
    }
   },
   "outputs": [],
   "source": [
    "# oriDf104.to_excel('104test.xlsx')"
   ]
  },
  {
   "cell_type": "markdown",
   "id": "1053d1ac",
   "metadata": {
    "ExecuteTime": {
     "end_time": "2023-02-21T02:23:31.174106Z",
     "start_time": "2023-02-21T02:23:31.154094Z"
    }
   },
   "source": [
    "# 分類成果測試"
   ]
  },
  {
   "cell_type": "markdown",
   "id": "34a0f3c8",
   "metadata": {},
   "source": [
    "## 測試1:雙向測試"
   ]
  },
  {
   "cell_type": "code",
   "execution_count": 551,
   "id": "fa3567df",
   "metadata": {
    "ExecuteTime": {
     "end_time": "2023-02-23T01:22:33.844315Z",
     "start_time": "2023-02-23T01:22:33.572419Z"
    }
   },
   "outputs": [
    {
     "name": "stdout",
     "output_type": "stream",
     "text": [
      "01.首頁總共有2個，\n",
      "有2個\n",
      "包含^104.com.tw$|^104.com.tw/jobs/main$|^104.com.tw/104i/introduce.cfm$\n",
      "沒有包含到的URL是\n",
      "\n",
      "\n",
      "網址中有上面的URL的數據，不是\"01.首頁\"的有0個\n",
      "分類為\n",
      "\n",
      "None \n",
      "\n",
      "02.公司頁總共有2646個，\n",
      "有2646個\n",
      "包含^104.com.tw/company/|^104.com.tw/company$\n",
      "沒有包含到的URL是\n",
      "\n",
      "\n",
      "網址中有上面的URL的數據，不是\"02.公司頁\"的有0個\n",
      "分類為\n",
      "\n",
      "None \n",
      "\n",
      "03.職缺頁總共有224個，\n",
      "有224個\n",
      "包含^104.com.tw/job/|^m.104.com.tw/job/|^104.com.tw/jobs/apply/analysis|^104.com.tw/jobs/career_whitepaper\n",
      "沒有包含到的URL是\n",
      "\n",
      "\n",
      "網址中有上面的URL的數據，不是\"03.職缺頁\"的有0個\n",
      "分類為\n",
      "\n",
      "None \n",
      "\n",
      "04.職缺搜尋結果總共有103個，\n",
      "有103個\n",
      "包含^104.com.tw/jobs/search|^m.104.com.tw/search|^m.104.com.tw/custsearch/\n",
      "沒有包含到的URL是\n",
      "\n",
      "\n",
      "網址中有上面的URL的數據，不是\"04.職缺搜尋結果\"的有0個\n",
      "分類為\n",
      "\n",
      "None \n",
      "\n",
      "05.公司搜尋結果總共有0個，\n",
      "有0個\n",
      "包含^104.com.tw/company\\?|^m.104.com.tw/custsearch/custlist\n",
      "沒有包含到的URL是\n",
      "\n",
      "\n",
      "網址中有上面的URL的數據，不是\"05.公司搜尋結果\"的有0個\n",
      "分類為\n",
      "\n",
      "None \n",
      "\n",
      "06.分類找工作總共有1個，\n",
      "有1個\n",
      "包含^104.com.tw/jb/category|^104.com.tw/jobs/main/category|^104.com.tw/jobs/main/freshman\n",
      "沒有包含到的URL是\n",
      "\n",
      "\n",
      "網址中有上面的URL的數據，不是\"06.分類找工作\"的有0個\n",
      "分類為\n",
      "\n",
      "None \n",
      "\n",
      "104i_公司頁總共有0個，\n",
      "有0個\n",
      "包含^104.com.tw/jb/104i/cust/view\n",
      "沒有包含到的URL是\n",
      "\n",
      "\n",
      "網址中有上面的URL的數據，不是\"104i_公司頁\"的有0個\n",
      "分類為\n",
      "\n",
      "None \n",
      "\n",
      "104i_公司搜尋結果總共有0個，\n",
      "有0個\n",
      "包含^^104.com.tw/jb/104i/custlist\n",
      "沒有包含到的URL是\n",
      "\n",
      "\n",
      "網址中有上面的URL的數據，不是\"104i_公司搜尋結果\"的有0個\n",
      "分類為\n",
      "\n",
      "None \n",
      "\n",
      "104i_首頁總共有0個，\n",
      "有0個\n",
      "包含^104.com.tw/jb/104i$\n",
      "沒有包含到的URL是\n",
      "\n",
      "\n",
      "網址中有上面的URL的數據，不是\"104i_首頁\"的有0個\n",
      "分類為\n",
      "\n",
      "None \n",
      "\n",
      "104i_職缺頁總共有0個，\n",
      "有0個\n",
      "包含^104.com.tw/jb/104i/job/view$\n",
      "沒有包含到的URL是\n",
      "\n",
      "\n",
      "網址中有上面的URL的數據，不是\"104i_職缺頁\"的有0個\n",
      "分類為\n",
      "\n",
      "None \n",
      "\n",
      "104i_職缺搜尋結果總共有0個，\n",
      "有0個\n",
      "包含^104.com.tw/jb/104i/joblist/list\n",
      "沒有包含到的URL是\n",
      "\n",
      "\n",
      "網址中有上面的URL的數據，不是\"104i_職缺搜尋結果\"的有0個\n",
      "分類為\n",
      "\n",
      "None \n",
      "\n",
      "104工作世界總共有0個，\n",
      "有0個\n",
      "包含^wow.104.com.tw\n",
      "沒有包含到的URL是\n",
      "\n",
      "\n",
      "網址中有上面的URL的數據，不是\"104工作世界\"的有0個\n",
      "分類為\n",
      "\n",
      "None \n",
      "\n",
      "104公司評論總共有9個，\n",
      "有9個\n",
      "包含^reviews.104.com.tw\n",
      "沒有包含到的URL是\n",
      "\n",
      "\n",
      "網址中有上面的URL的數據，不是\"104公司評論\"的有0個\n",
      "分類為\n",
      "\n",
      "None \n",
      "\n",
      "104企業大師總共有3個，\n",
      "有3個\n",
      "包含^marketing.pro.104.com.tw\n",
      "沒有包含到的URL是\n",
      "\n",
      "\n",
      "網址中有上面的URL的數據，不是\"104企業大師\"的有0個\n",
      "分類為\n",
      "\n",
      "None \n",
      "\n",
      "104高手總共有0個，\n",
      "有0個\n",
      "包含^top.104.com.tw\n",
      "沒有包含到的URL是\n",
      "\n",
      "\n",
      "網址中有上面的URL的數據，不是\"104高手\"的有0個\n",
      "分類為\n",
      "\n",
      "None \n",
      "\n",
      "104高年級總共有11個，\n",
      "有11個\n",
      "包含^senior.104.com.tw\n",
      "沒有包含到的URL是\n",
      "\n",
      "\n",
      "網址中有上面的URL的數據，不是\"104高年級\"的有0個\n",
      "分類為\n",
      "\n",
      "None \n",
      "\n",
      "104落點分析總共有8個，\n",
      "有8個\n",
      "包含^student.104.com.tw\n",
      "沒有包含到的URL是\n",
      "\n",
      "\n",
      "網址中有上面的URL的數據，不是\"104落點分析\"的有0個\n",
      "分類為\n",
      "\n",
      "None \n",
      "\n",
      "Giver總共有79個，\n",
      "有79個\n",
      "包含^giver.104.com.tw\n",
      "沒有包含到的URL是\n",
      "\n",
      "\n",
      "網址中有上面的URL的數據，不是\"Giver\"的有0個\n",
      "分類為\n",
      "\n",
      "None \n",
      "\n",
      "人資充電總共有0個，\n",
      "有0個\n",
      "包含^pro.104.com.tw/vip/prelogin/recruiterforum\n",
      "沒有包含到的URL是\n",
      "\n",
      "\n",
      "網址中有上面的URL的數據，不是\"人資充電\"的有0個\n",
      "分類為\n",
      "\n",
      "None \n",
      "\n",
      "中高階首頁總共有0個，\n",
      "有0個\n",
      "包含^104.com.tw/jobs/main/higher\n",
      "沒有包含到的URL是\n",
      "\n",
      "\n",
      "網址中有上面的URL的數據，不是\"中高階首頁\"的有0個\n",
      "分類為\n",
      "\n",
      "None \n",
      "\n",
      "升學就業地圖總共有8個，\n",
      "有8個\n",
      "包含^104.com.tw/jb/career\n",
      "沒有包含到的URL是\n",
      "\n",
      "\n",
      "網址中有上面的URL的數據，不是\"升學就業地圖\"的有0個\n",
      "分類為\n",
      "\n",
      "None \n",
      "\n",
      "打工探吉總共有3個，\n",
      "有3個\n",
      "包含^tanji.104.com.tw\n",
      "沒有包含到的URL是\n",
      "\n",
      "\n",
      "網址中有上面的URL的數據，不是\"打工探吉\"的有0個\n",
      "分類為\n",
      "\n",
      "None \n",
      "\n",
      "地圖找工作總共有1個，\n",
      "有1個\n",
      "包含^time4jobs.104.com.tw\n",
      "沒有包含到的URL是\n",
      "\n",
      "\n",
      "網址中有上面的URL的數據，不是\"地圖找工作\"的有0個\n",
      "分類為\n",
      "\n",
      "None \n",
      "\n",
      "求職精靈總共有99個，\n",
      "有99個\n",
      "包含^nabi.104.com.tw\n",
      "沒有包含到的URL是\n",
      "\n",
      "\n",
      "網址中有上面的URL的數據，不是\"求職精靈\"的有0個\n",
      "分類為\n",
      "\n",
      "None \n",
      "\n",
      "招募管理總共有1個，\n",
      "有1個\n",
      "包含^pro.104.com.tw\n",
      "沒有包含到的URL是\n",
      "\n",
      "\n",
      "網址中有上面的URL的數據，不是\"招募管理\"的有0個\n",
      "分類為\n",
      "\n",
      "None \n",
      "\n",
      "學生首頁總共有1個，\n",
      "有1個\n",
      "包含^104.com.tw/jobs/main/student\n",
      "沒有包含到的URL是\n",
      "\n",
      "\n",
      "網址中有上面的URL的數據，不是\"學生首頁\"的有0個\n",
      "分類為\n",
      "\n",
      "None \n",
      "\n",
      "薪資情報總共有0個，\n",
      "有0個\n",
      "包含^104.com.tw/jb/wage\n",
      "沒有包含到的URL是\n",
      "\n",
      "\n",
      "網址中有上面的URL的數據，不是\"薪資情報\"的有0個\n",
      "分類為\n",
      "\n",
      "None \n",
      "\n",
      "職場力總共有368個，\n",
      "有368個\n",
      "包含^blog.104.com.tw\n",
      "沒有包含到的URL是\n",
      "\n",
      "\n",
      "網址中有上面的URL的數據，不是\"職場力\"的有0個\n",
      "分類為\n",
      "\n",
      "None \n",
      "\n"
     ]
    }
   ],
   "source": [
    "for i in range(len(regex104)):\n",
    "    print(resTestFun(regex104.cat[i], regex104.reg[i], oriDf104),'\\n')"
   ]
  },
  {
   "cell_type": "code",
   "execution_count": 546,
   "id": "2f47e52b",
   "metadata": {
    "ExecuteTime": {
     "end_time": "2023-02-23T01:16:32.591661Z",
     "start_time": "2023-02-23T01:16:32.566669Z"
    }
   },
   "outputs": [
    {
     "data": {
      "text/html": [
       "<div>\n",
       "<style scoped>\n",
       "    .dataframe tbody tr th:only-of-type {\n",
       "        vertical-align: middle;\n",
       "    }\n",
       "\n",
       "    .dataframe tbody tr th {\n",
       "        vertical-align: top;\n",
       "    }\n",
       "\n",
       "    .dataframe thead th {\n",
       "        text-align: right;\n",
       "    }\n",
       "</style>\n",
       "<table border=\"1\" class=\"dataframe\">\n",
       "  <thead>\n",
       "    <tr style=\"text-align: right;\">\n",
       "      <th></th>\n",
       "      <th>URL</th>\n",
       "      <th>Traffic Share</th>\n",
       "      <th>Keywords</th>\n",
       "      <th>Top Keyword</th>\n",
       "      <th>category</th>\n",
       "    </tr>\n",
       "  </thead>\n",
       "  <tbody>\n",
       "    <tr>\n",
       "      <th>9</th>\n",
       "      <td>104.com.tw/job/77icd</td>\n",
       "      <td>0.002444</td>\n",
       "      <td>6</td>\n",
       "      <td>pcie ssd 韌體開發工程師0503</td>\n",
       "      <td>未分類</td>\n",
       "    </tr>\n",
       "    <tr>\n",
       "      <th>195</th>\n",
       "      <td>104.com.tw/job/4of03</td>\n",
       "      <td>0.000417</td>\n",
       "      <td>10</td>\n",
       "      <td>群聯 台北 12f</td>\n",
       "      <td>未分類</td>\n",
       "    </tr>\n",
       "    <tr>\n",
       "      <th>231</th>\n",
       "      <td>104.com.tw/job/6mj4r</td>\n",
       "      <td>0.000390</td>\n",
       "      <td>11</td>\n",
       "      <td>pcie gen4/5 ssd韌體工程師 d2 – 台北辦公室</td>\n",
       "      <td>未分類</td>\n",
       "    </tr>\n",
       "    <tr>\n",
       "      <th>338</th>\n",
       "      <td>104.com.tw/job/7avdb</td>\n",
       "      <td>0.000329</td>\n",
       "      <td>2</td>\n",
       "      <td>麻豆燦坤門市</td>\n",
       "      <td>未分類</td>\n",
       "    </tr>\n",
       "    <tr>\n",
       "      <th>351</th>\n",
       "      <td>104.com.tw/job/7ewhe</td>\n",
       "      <td>0.000323</td>\n",
       "      <td>1</td>\n",
       "      <td>軟韌體工程師1601</td>\n",
       "      <td>未分類</td>\n",
       "    </tr>\n",
       "    <tr>\n",
       "      <th>...</th>\n",
       "      <td>...</td>\n",
       "      <td>...</td>\n",
       "      <td>...</td>\n",
       "      <td>...</td>\n",
       "      <td>...</td>\n",
       "    </tr>\n",
       "    <tr>\n",
       "      <th>3682</th>\n",
       "      <td>104.com.tw/job/26d60</td>\n",
       "      <td>0.000040</td>\n",
       "      <td>1</td>\n",
       "      <td>synology product specialist</td>\n",
       "      <td>未分類</td>\n",
       "    </tr>\n",
       "    <tr>\n",
       "      <th>3702</th>\n",
       "      <td>104.com.tw/job/6diey</td>\n",
       "      <td>0.000040</td>\n",
       "      <td>2</td>\n",
       "      <td>英業達 品質人員</td>\n",
       "      <td>未分類</td>\n",
       "    </tr>\n",
       "    <tr>\n",
       "      <th>3710</th>\n",
       "      <td>104.com.tw/job/7s7ft</td>\n",
       "      <td>0.000040</td>\n",
       "      <td>2</td>\n",
       "      <td>esg analyst taiwan</td>\n",
       "      <td>未分類</td>\n",
       "    </tr>\n",
       "    <tr>\n",
       "      <th>3748</th>\n",
       "      <td>104.com.tw/job/7u09c</td>\n",
       "      <td>0.000038</td>\n",
       "      <td>1</td>\n",
       "      <td>頂通 翻譯</td>\n",
       "      <td>未分類</td>\n",
       "    </tr>\n",
       "    <tr>\n",
       "      <th>3750</th>\n",
       "      <td>104.com.tw/job/7v0j8</td>\n",
       "      <td>0.000038</td>\n",
       "      <td>1</td>\n",
       "      <td>sustainability 台北</td>\n",
       "      <td>未分類</td>\n",
       "    </tr>\n",
       "  </tbody>\n",
       "</table>\n",
       "<p>224 rows × 5 columns</p>\n",
       "</div>"
      ],
      "text/plain": [
       "                       URL  Traffic Share   Keywords  \\\n",
       "9     104.com.tw/job/77icd        0.002444         6   \n",
       "195   104.com.tw/job/4of03        0.000417        10   \n",
       "231   104.com.tw/job/6mj4r        0.000390        11   \n",
       "338   104.com.tw/job/7avdb        0.000329         2   \n",
       "351   104.com.tw/job/7ewhe        0.000323         1   \n",
       "...                    ...             ...       ...   \n",
       "3682  104.com.tw/job/26d60        0.000040         1   \n",
       "3702  104.com.tw/job/6diey        0.000040         2   \n",
       "3710  104.com.tw/job/7s7ft        0.000040         2   \n",
       "3748  104.com.tw/job/7u09c        0.000038         1   \n",
       "3750  104.com.tw/job/7v0j8        0.000038         1   \n",
       "\n",
       "                          Top Keyword category  \n",
       "9                pcie ssd 韌體開發工程師0503      未分類  \n",
       "195                         群聯 台北 12f      未分類  \n",
       "231   pcie gen4/5 ssd韌體工程師 d2 – 台北辦公室      未分類  \n",
       "338                            麻豆燦坤門市      未分類  \n",
       "351                        軟韌體工程師1601      未分類  \n",
       "...                               ...      ...  \n",
       "3682      synology product specialist      未分類  \n",
       "3702                         英業達 品質人員      未分類  \n",
       "3710               esg analyst taiwan      未分類  \n",
       "3748                            頂通 翻譯      未分類  \n",
       "3750                sustainability 台北      未分類  \n",
       "\n",
       "[224 rows x 5 columns]"
      ]
     },
     "execution_count": 546,
     "metadata": {},
     "output_type": "execute_result"
    }
   ],
   "source": [
    "e = oriDf104[(oriDf104[\"URL\"].str.contains('^104.com.tw/job/|^m.104.com.tw/job/|^104.com.tw/jobs/apply/analysis|^104.com.tw/jobs/career_whitepaper')==True)]\n",
    "l2 = e[~(e['category'].str.contains('03.職缺頁'))]\n",
    "l2"
   ]
  },
  {
   "cell_type": "markdown",
   "id": "6d2f35fe",
   "metadata": {
    "ExecuteTime": {
     "end_time": "2023-02-23T01:17:09.242081Z",
     "start_time": "2023-02-23T01:17:09.110454Z"
    }
   },
   "source": [
    "## 測試2:過去資料測試"
   ]
  },
  {
   "cell_type": "code",
   "execution_count": 15,
   "id": "367c2a11",
   "metadata": {
    "ExecuteTime": {
     "end_time": "2023-03-01T03:40:11.240029Z",
     "start_time": "2023-03-01T03:39:52.917450Z"
    }
   },
   "outputs": [],
   "source": [
    "test1111 = pd.read_excel('C:/Users/wendywen/python code/06-202208-AutoUpdateKPIReport/sw檔案/reshapeTest.xlsx', sheet_name='1111')[['URL','Traffic Share',\"Keywords\",'Top Keyword']].reset_index()\n",
    "test518 = pd.read_excel('C:/Users/wendywen/python code/06-202208-AutoUpdateKPIReport/sw檔案/reshapeTest.xlsx', sheet_name='518')[['URL','Traffic Share',\"Keywords\",'Top Keyword']].reset_index()\n",
    "test104 = pd.read_excel('C:/Users/wendywen/python code/06-202208-AutoUpdateKPIReport/sw檔案/reshapeTest.xlsx', sheet_name='104')[['URL','Traffic Share',\"Keywords\",'Top Keyword']].reset_index()"
   ]
  },
  {
   "cell_type": "code",
   "execution_count": 46,
   "id": "9b4f194a",
   "metadata": {
    "ExecuteTime": {
     "end_time": "2023-03-01T04:12:20.663184Z",
     "start_time": "2023-03-01T04:12:07.783220Z"
    }
   },
   "outputs": [],
   "source": [
    "result1111 = classti('1111', test1111)\n",
    "result518 = classti('518', test518)\n",
    "result104 = classti('104', test104)"
   ]
  },
  {
   "cell_type": "code",
   "execution_count": 33,
   "id": "5ff25dcf",
   "metadata": {
    "ExecuteTime": {
     "end_time": "2023-03-01T03:50:01.505132Z",
     "start_time": "2023-03-01T03:49:42.944990Z"
    }
   },
   "outputs": [],
   "source": [
    "ans1111 = pd.read_excel('C:/Users/wendywen/python code/06-202208-AutoUpdateKPIReport/sw檔案/reshapeTest.xlsx', sheet_name='1111')[['URL', '頁面分組']].reset_index()\n",
    "ans518 = pd.read_excel('C:/Users/wendywen/python code/06-202208-AutoUpdateKPIReport/sw檔案/reshapeTest.xlsx', sheet_name='518')[['URL', '頁面分組']].reset_index()\n",
    "ans104 = pd.read_excel('C:/Users/wendywen/python code/06-202208-AutoUpdateKPIReport/sw檔案/reshapeTest.xlsx', sheet_name='104')[['URL', '頁面分組']].reset_index()\n",
    "ans1111.columns = ['index', 'URL', 'catAns']\n",
    "ans518.columns = ['index', 'URL', 'catAns']\n",
    "ans104.columns = ['index', 'URL', 'catAns']"
   ]
  },
  {
   "cell_type": "code",
   "execution_count": 47,
   "id": "75b1efb4",
   "metadata": {
    "ExecuteTime": {
     "end_time": "2023-03-01T04:12:21.013452Z",
     "start_time": "2023-03-01T04:12:20.920151Z"
    }
   },
   "outputs": [],
   "source": [
    "merDf1111 = pd.merge(ans1111, result1111, left_on='index', right_on='checkIndex')\n",
    "merDf104 = pd.merge(ans104, result104, left_on='index',right_on = 'checkIndex')\n",
    "merDf518 = pd.merge(ans518, result518, left_on='index',right_on = 'checkIndex')"
   ]
  },
  {
   "cell_type": "code",
   "execution_count": 48,
   "id": "2fd20296",
   "metadata": {
    "ExecuteTime": {
     "end_time": "2023-03-01T04:12:23.040561Z",
     "start_time": "2023-03-01T04:12:21.270370Z"
    }
   },
   "outputs": [],
   "source": [
    "errorIndex1111 = []\n",
    "for i in range(len(merDf1111)):\n",
    "    if merDf1111.catAns[i] != merDf1111.category[i]:\n",
    "        errorIndex1111.append(i)\n",
    "    else:\n",
    "        continue\n",
    "        \n",
    "errorIndex104 = []\n",
    "for i in range(len(merDf104)):\n",
    "    if merDf104.catAns[i] != merDf104.category[i]:\n",
    "        errorIndex104.append(i)\n",
    "    else:\n",
    "        continue\n",
    "        \n",
    "errorIndex518 = []\n",
    "for i in range(len(merDf518)):\n",
    "    if merDf518.catAns[i] != merDf518.category[i]:\n",
    "        errorIndex518.append(i)\n",
    "    else:\n",
    "        continue"
   ]
  },
  {
   "cell_type": "code",
   "execution_count": 49,
   "id": "c2565bbc",
   "metadata": {
    "ExecuteTime": {
     "end_time": "2023-03-01T04:12:23.623875Z",
     "start_time": "2023-03-01T04:12:23.295558Z"
    }
   },
   "outputs": [
    {
     "name": "stderr",
     "output_type": "stream",
     "text": [
      "C:\\ProgramData\\Anaconda3\\lib\\site-packages\\xlsxwriter\\workbook.py:336: UserWarning: Calling close() on already closed file.\n",
      "  warn(\"Calling close() on already closed file.\")\n"
     ]
    }
   ],
   "source": [
    "file = pd.ExcelWriter('error.xlsx')\n",
    "merDf1111.iloc[errorIndex1111].to_excel(file, sheet_name = 'error1111')\n",
    "merDf104.iloc[errorIndex104].to_excel(file, sheet_name = 'error104')\n",
    "merDf518.iloc[errorIndex518].to_excel(file, sheet_name = 'error518')\n",
    "file.save()\n",
    "file.close()"
   ]
  },
  {
   "cell_type": "markdown",
   "id": "0fccbe3e",
   "metadata": {},
   "source": [
    "# 以API抓取Traffic數據"
   ]
  },
  {
   "cell_type": "markdown",
   "id": "3acea27a",
   "metadata": {
    "ExecuteTime": {
     "end_time": "2023-02-24T09:18:21.124283Z",
     "start_time": "2023-02-24T09:18:20.192247Z"
    }
   },
   "source": [
    "dat = datetime.datetime.now()\n",
    "lastMonth = dat - relativedelta(months=1)\n",
    "lastMonth4api = lastMonth.strftime('%Y-%m')\n",
    "brand = '1111'\n",
    "\n",
    "url = \"https://api.similarweb.com/v1/website/%s.com.tw/traffic-sources/overview-share?api_key=7e552f683942499fbd752ad182af1dab&start_date=%s&end_date=%s&country=tw&granularity=monthly&main_domain_only=false&format=json&mtd=false\"%(brand, lastMonth4api, lastMonth4api)\n",
    "headers = {\"accept\": \"application/json\"}\n",
    "response = json.loads(requests.get(url, headers=headers).text)\n",
    "\n",
    "curUrl = brand+'.com.tw'\n",
    "response['visits'][curUrl][0]['visits'][0]['organic']"
   ]
  },
  {
   "cell_type": "code",
   "execution_count": 775,
   "id": "b446f023",
   "metadata": {
    "ExecuteTime": {
     "end_time": "2023-03-01T01:27:18.641181Z",
     "start_time": "2023-03-01T01:27:18.632184Z"
    }
   },
   "outputs": [
    {
     "data": {
      "text/plain": [
       "847054.8980801627"
      ]
     },
     "execution_count": 775,
     "metadata": {},
     "output_type": "execute_result"
    }
   ],
   "source": [
    "response['visits']['1111.com.tw'][0]['visits'][0]['organic']"
   ]
  },
  {
   "cell_type": "code",
   "execution_count": 27,
   "id": "e5518d9f",
   "metadata": {
    "ExecuteTime": {
     "end_time": "2023-03-01T03:47:53.464437Z",
     "start_time": "2023-03-01T03:47:50.740014Z"
    }
   },
   "outputs": [],
   "source": [
    "result1111 = classti('1111', test1111)"
   ]
  },
  {
   "cell_type": "code",
   "execution_count": 28,
   "id": "384898fe",
   "metadata": {
    "ExecuteTime": {
     "end_time": "2023-03-01T03:47:54.616506Z",
     "start_time": "2023-03-01T03:47:54.583504Z"
    }
   },
   "outputs": [
    {
     "data": {
      "text/html": [
       "<div>\n",
       "<style scoped>\n",
       "    .dataframe tbody tr th:only-of-type {\n",
       "        vertical-align: middle;\n",
       "    }\n",
       "\n",
       "    .dataframe tbody tr th {\n",
       "        vertical-align: top;\n",
       "    }\n",
       "\n",
       "    .dataframe thead th {\n",
       "        text-align: right;\n",
       "    }\n",
       "</style>\n",
       "<table border=\"1\" class=\"dataframe\">\n",
       "  <thead>\n",
       "    <tr style=\"text-align: right;\">\n",
       "      <th></th>\n",
       "      <th>index</th>\n",
       "      <th>date</th>\n",
       "      <th>URL</th>\n",
       "      <th>Traffic Share</th>\n",
       "      <th>Keywords</th>\n",
       "      <th>Top Keyword</th>\n",
       "      <th>category</th>\n",
       "      <th>traffic</th>\n",
       "    </tr>\n",
       "  </thead>\n",
       "  <tbody>\n",
       "    <tr>\n",
       "      <th>0</th>\n",
       "      <td>1</td>\n",
       "      <td>Feb-23</td>\n",
       "      <td>1111.com.tw</td>\n",
       "      <td>0.166265</td>\n",
       "      <td>9179</td>\n",
       "      <td>1111</td>\n",
       "      <td>01.首頁</td>\n",
       "      <td>140835.272708</td>\n",
       "    </tr>\n",
       "    <tr>\n",
       "      <th>1</th>\n",
       "      <td>2</td>\n",
       "      <td>Feb-23</td>\n",
       "      <td>1111.com.tw/corp/10000670</td>\n",
       "      <td>0.000267</td>\n",
       "      <td>13</td>\n",
       "      <td>國衛院 行政人員 薪水</td>\n",
       "      <td>02.公司頁</td>\n",
       "      <td>226.158832</td>\n",
       "    </tr>\n",
       "    <tr>\n",
       "      <th>2</th>\n",
       "      <td>2</td>\n",
       "      <td>Feb-23</td>\n",
       "      <td>1111.com.tw/corp/10001567</td>\n",
       "      <td>0.000469</td>\n",
       "      <td>1</td>\n",
       "      <td>雙永股份有限公司 職缺</td>\n",
       "      <td>02.公司頁</td>\n",
       "      <td>397.491281</td>\n",
       "    </tr>\n",
       "    <tr>\n",
       "      <th>3</th>\n",
       "      <td>2</td>\n",
       "      <td>Feb-23</td>\n",
       "      <td>1111.com.tw/corp/10067687</td>\n",
       "      <td>0.000319</td>\n",
       "      <td>2</td>\n",
       "      <td>中鋼運通</td>\n",
       "      <td>02.公司頁</td>\n",
       "      <td>270.215747</td>\n",
       "    </tr>\n",
       "    <tr>\n",
       "      <th>4</th>\n",
       "      <td>2</td>\n",
       "      <td>Feb-23</td>\n",
       "      <td>1111.com.tw/corp/10342078</td>\n",
       "      <td>0.000403</td>\n",
       "      <td>6</td>\n",
       "      <td>榮興工業</td>\n",
       "      <td>02.公司頁</td>\n",
       "      <td>341.685855</td>\n",
       "    </tr>\n",
       "    <tr>\n",
       "      <th>...</th>\n",
       "      <td>...</td>\n",
       "      <td>...</td>\n",
       "      <td>...</td>\n",
       "      <td>...</td>\n",
       "      <td>...</td>\n",
       "      <td>...</td>\n",
       "      <td>...</td>\n",
       "      <td>...</td>\n",
       "    </tr>\n",
       "    <tr>\n",
       "      <th>26186</th>\n",
       "      <td>21</td>\n",
       "      <td>Feb-23</td>\n",
       "      <td>1111.com.tw/position/nurse</td>\n",
       "      <td>0.000884</td>\n",
       "      <td>186</td>\n",
       "      <td>護理師</td>\n",
       "      <td>職點</td>\n",
       "      <td>749.112956</td>\n",
       "    </tr>\n",
       "    <tr>\n",
       "      <th>26187</th>\n",
       "      <td>21</td>\n",
       "      <td>Feb-23</td>\n",
       "      <td>1111.com.tw/position/product-manager</td>\n",
       "      <td>0.000679</td>\n",
       "      <td>338</td>\n",
       "      <td>產品經理</td>\n",
       "      <td>職點</td>\n",
       "      <td>574.771046</td>\n",
       "    </tr>\n",
       "    <tr>\n",
       "      <th>26188</th>\n",
       "      <td>21</td>\n",
       "      <td>Feb-23</td>\n",
       "      <td>1111.com.tw/position/reporter</td>\n",
       "      <td>0.000267</td>\n",
       "      <td>43</td>\n",
       "      <td>記者 能力</td>\n",
       "      <td>職點</td>\n",
       "      <td>226.087226</td>\n",
       "    </tr>\n",
       "    <tr>\n",
       "      <th>26189</th>\n",
       "      <td>21</td>\n",
       "      <td>Feb-23</td>\n",
       "      <td>1111.com.tw/position/sales</td>\n",
       "      <td>0.000475</td>\n",
       "      <td>750</td>\n",
       "      <td>業務</td>\n",
       "      <td>職點</td>\n",
       "      <td>402.021300</td>\n",
       "    </tr>\n",
       "    <tr>\n",
       "      <th>26190</th>\n",
       "      <td>21</td>\n",
       "      <td>Feb-23</td>\n",
       "      <td>1111.com.tw/position/software-engineer</td>\n",
       "      <td>0.001348</td>\n",
       "      <td>530</td>\n",
       "      <td>軟體工程師</td>\n",
       "      <td>職點</td>\n",
       "      <td>1141.581275</td>\n",
       "    </tr>\n",
       "  </tbody>\n",
       "</table>\n",
       "<p>26191 rows × 8 columns</p>\n",
       "</div>"
      ],
      "text/plain": [
       "       index    date                                     URL  Traffic Share  \\\n",
       "0          1  Feb-23                             1111.com.tw       0.166265   \n",
       "1          2  Feb-23               1111.com.tw/corp/10000670       0.000267   \n",
       "2          2  Feb-23               1111.com.tw/corp/10001567       0.000469   \n",
       "3          2  Feb-23               1111.com.tw/corp/10067687       0.000319   \n",
       "4          2  Feb-23               1111.com.tw/corp/10342078       0.000403   \n",
       "...      ...     ...                                     ...            ...   \n",
       "26186     21  Feb-23              1111.com.tw/position/nurse       0.000884   \n",
       "26187     21  Feb-23    1111.com.tw/position/product-manager       0.000679   \n",
       "26188     21  Feb-23           1111.com.tw/position/reporter       0.000267   \n",
       "26189     21  Feb-23              1111.com.tw/position/sales       0.000475   \n",
       "26190     21  Feb-23  1111.com.tw/position/software-engineer       0.001348   \n",
       "\n",
       "       Keywords  Top Keyword category        traffic  \n",
       "0          9179         1111    01.首頁  140835.272708  \n",
       "1            13  國衛院 行政人員 薪水   02.公司頁     226.158832  \n",
       "2             1  雙永股份有限公司 職缺   02.公司頁     397.491281  \n",
       "3             2         中鋼運通   02.公司頁     270.215747  \n",
       "4             6         榮興工業   02.公司頁     341.685855  \n",
       "...         ...          ...      ...            ...  \n",
       "26186       186          護理師       職點     749.112956  \n",
       "26187       338         產品經理       職點     574.771046  \n",
       "26188        43        記者 能力       職點     226.087226  \n",
       "26189       750           業務       職點     402.021300  \n",
       "26190       530        軟體工程師       職點    1141.581275  \n",
       "\n",
       "[26191 rows x 8 columns]"
      ]
     },
     "execution_count": 28,
     "metadata": {},
     "output_type": "execute_result"
    }
   ],
   "source": [
    "result1111#[['date', 'URL', 'Traffic Share', 'Keywords', 'Top Keyword', 'category', 'traffic']]"
   ]
  },
  {
   "cell_type": "code",
   "execution_count": 818,
   "id": "aa7f7633",
   "metadata": {
    "ExecuteTime": {
     "end_time": "2023-03-01T02:48:33.523830Z",
     "start_time": "2023-03-01T02:48:14.862087Z"
    }
   },
   "outputs": [
    {
     "data": {
      "text/plain": [
       "'done'"
      ]
     },
     "execution_count": 818,
     "metadata": {},
     "output_type": "execute_result"
    }
   ],
   "source": [
    "#原始數據\n",
    "orgDf = GoogleSheets().getWorksheet2Df(\n",
    "        spreadsheetId='1YWi8hg545ryn_KlWUSp2jDKt85BZ1ACHGw67iwIyrgY',\n",
    "        range='1111'\n",
    ")\n",
    "\n",
    "#原始數據\n",
    "GoogleSheets().setWorksheet(\n",
    "        spreadsheetId='1YWi8hg545ryn_KlWUSp2jDKt85BZ1ACHGw67iwIyrgY',\n",
    "        range='1111',\n",
    "        df = pd.concat([result1111, orgDf], axis=0)#.fillna('')\n",
    ")"
   ]
  },
  {
   "cell_type": "markdown",
   "id": "1fe66b90",
   "metadata": {},
   "source": [
    "# 使用者介面"
   ]
  },
  {
   "cell_type": "code",
   "execution_count": 738,
   "id": "4a24d9b0",
   "metadata": {
    "ExecuteTime": {
     "end_time": "2023-02-24T06:57:27.976299Z",
     "start_time": "2023-02-24T06:56:44.386231Z"
    }
   },
   "outputs": [],
   "source": [
    "import tkinter as tk\n",
    "from tkinter import filedialog\n",
    "import pandas as pd\n",
    "\n",
    "class Application(tk.Frame):\n",
    "    def __init__(self, master=None):\n",
    "        super().__init__(master)\n",
    "        self.master = master\n",
    "        self.master.title(\"Excel匯入程式\")\n",
    "        self.master.geometry(\"400x200\")\n",
    "        self.create_widgets()\n",
    "\n",
    "    def create_widgets(self):\n",
    "        self.excel_label = tk.Label(self.master, text=\"請選擇Excel檔案：\")\n",
    "        self.excel_label.grid(row=0, column=0, padx=10, pady=10)\n",
    "        self.excel_button = tk.Button(self.master, text=\"選擇檔案\", command=self.choose_file)\n",
    "        self.excel_button.grid(row=0, column=1, padx=10, pady=10)\n",
    "\n",
    "        self.brand_label = tk.Label(self.master, text=\"輸入檔案主題：\")\n",
    "        self.brand_label.grid(row=1, column=0, padx=10, pady=10)\n",
    "        self.brand_entry = tk.Entry(self.master)\n",
    "        self.brand_entry.grid(row=1, column=1, padx=10, pady=10)\n",
    "\n",
    "        self.traffic_label = tk.Label(self.master, text=\"輸入數字：\")\n",
    "        self.traffic_label.grid(row=2, column=0, padx=10, pady=10)\n",
    "        self.traffic_entry = tk.Entry(self.master)\n",
    "        self.traffic_entry.grid(row=2, column=1, padx=10, pady=10)\n",
    "\n",
    "        self.submit_button = tk.Button(self.master, text=\"匯入Excel檔\", command=self.load_excel)\n",
    "        self.submit_button.grid(row=3, column=1, padx=10, pady=10)\n",
    "\n",
    "    def choose_file(self):\n",
    "        filetypes = ((\"Excel files\", \"*.xlsx\"), (\"All files\", \"*.*\"))\n",
    "        self.filename = filedialog.askopenfilename(filetypes=filetypes)\n",
    "        self.excel_button.configure(text=self.filename)\n",
    "\n",
    "    def load_excel(self):\n",
    "        brand = self.brand_entry.get()\n",
    "        traffic = int(self.traffic_entry.get())\n",
    "        oriTest = pd.read_excel(self.filename, sheet_name = 'Landing_Pages')\n",
    "\n",
    "        # 在這裡可以進行DataFrame的操作，如顯示前5行\n",
    "        print(oriTest.head())\n",
    "\n",
    "root = tk.Tk()\n",
    "app = Application(master=root)\n",
    "app.mainloop()\n"
   ]
  },
  {
   "cell_type": "code",
   "execution_count": null,
   "id": "82cd0147",
   "metadata": {},
   "outputs": [],
   "source": []
  }
 ],
 "metadata": {
  "kernelspec": {
   "display_name": "Python 3",
   "language": "python",
   "name": "python3"
  },
  "language_info": {
   "codemirror_mode": {
    "name": "ipython",
    "version": 3
   },
   "file_extension": ".py",
   "mimetype": "text/x-python",
   "name": "python",
   "nbconvert_exporter": "python",
   "pygments_lexer": "ipython3",
   "version": "3.8.8"
  },
  "toc": {
   "base_numbering": 1,
   "nav_menu": {},
   "number_sections": true,
   "sideBar": true,
   "skip_h1_title": false,
   "title_cell": "Table of Contents",
   "title_sidebar": "Contents",
   "toc_cell": false,
   "toc_position": {
    "height": "calc(100% - 180px)",
    "left": "10px",
    "top": "150px",
    "width": "222px"
   },
   "toc_section_display": true,
   "toc_window_display": true
  },
  "varInspector": {
   "cols": {
    "lenName": 16,
    "lenType": 16,
    "lenVar": 40
   },
   "kernels_config": {
    "python": {
     "delete_cmd_postfix": "",
     "delete_cmd_prefix": "del ",
     "library": "var_list.py",
     "varRefreshCmd": "print(var_dic_list())"
    },
    "r": {
     "delete_cmd_postfix": ") ",
     "delete_cmd_prefix": "rm(",
     "library": "var_list.r",
     "varRefreshCmd": "cat(var_dic_list()) "
    }
   },
   "position": {
    "height": "904.859px",
    "left": "1180.77px",
    "right": "20px",
    "top": "57px",
    "width": "350px"
   },
   "types_to_exclude": [
    "module",
    "function",
    "builtin_function_or_method",
    "instance",
    "_Feature"
   ],
   "window_display": false
  }
 },
 "nbformat": 4,
 "nbformat_minor": 5
}
